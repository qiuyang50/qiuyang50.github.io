{
 "cells": [
  {
   "cell_type": "markdown",
   "id": "5afc399d",
   "metadata": {},
   "source": [
    "# Deep Learning\n",
    "\n",
    "<a target=\"_blank\" href=\"https://colab.research.google.com/github/intro-stat-learning/ISLP_labs/blob/v2.2/Ch10-deeplearning-lab.ipynb\">\n",
    "<img src=\"https://colab.research.google.com/assets/colab-badge.svg\" alt=\"Open In Colab\"/>\n",
    "</a>\n",
    "\n",
    "[![Binder](https://mybinder.org/badge_logo.svg)](https://mybinder.org/v2/gh/intro-stat-learning/ISLP_labs/v2.2?labpath=Ch10-deeplearning-lab.ipynb)"
   ]
  },
  {
   "cell_type": "markdown",
   "id": "2f2304ae",
   "metadata": {},
   "source": [
    "In this section we  demonstrate how to fit the examples discussed\n",
    "in the text. We use the `Python`{} `torch` package, along with the\n",
    "`pytorch_lightning` package which provides utilities to simplify\n",
    "fitting and evaluating models.  This code can be impressively fast\n",
    "with certain  special processors,  such as Apple’s new M1 chip. The package is well-structured, flexible, and will feel comfortable\n",
    "to `Python`{} users. A good companion is the site\n",
    "[pytorch.org/tutorials](https://pytorch.org/tutorials/beginner/basics/intro.html).\n",
    "Much of our code is adapted from there, as well as the `pytorch_lightning` documentation. {The precise URLs at the time of writing are <https://pytorch.org/tutorials/beginner/basics/intro.html> and <https://pytorch-lightning.readthedocs.io/en/latest/>.}\n",
    "\n",
    "We start with several standard imports that we have  seen before."
   ]
  },
  {
   "cell_type": "code",
   "execution_count": 1,
   "id": "71bd6b71",
   "metadata": {
    "lines_to_next_cell": 2
   },
   "outputs": [],
   "source": [
    "import numpy  as np\n",
    "import pandas as pd\n",
    "from matplotlib.pyplot import subplots\n",
    "\n",
    "from sklearn.linear_model import \\\n",
    "     (LinearRegression,\n",
    "      LogisticRegression,\n",
    "      Lasso)\n",
    "from sklearn.model_selection import \\\n",
    "     (train_test_split,\n",
    "      GridSearchCV)\n",
    "from sklearn.preprocessing import StandardScaler\n",
    "from sklearn.model_selection import KFold\n",
    "from sklearn.pipeline import Pipeline\n",
    "\n",
    "from ISLP import load_data\n",
    "from ISLP.models import ModelSpec as MS"
   ]
  },
  {
   "cell_type": "markdown",
   "id": "9b799d88",
   "metadata": {},
   "source": [
    "### Torch-Specific Imports\n",
    "There are a number of imports for `torch`. (These are not\n",
    "included with `ISLP`, so must be installed separately.)\n",
    "First we import the main library\n",
    "and essential tools used to specify sequentially-structured networks."
   ]
  },
  {
   "cell_type": "code",
   "execution_count": 2,
   "id": "3298bdf1",
   "metadata": {},
   "outputs": [],
   "source": [
    "import torch\n",
    "from torch import nn\n",
    "from torch.optim import RMSprop\n",
    "from torch.utils.data import TensorDataset\n"
   ]
  },
  {
   "cell_type": "markdown",
   "id": "51c32fa5",
   "metadata": {},
   "source": [
    "There are several other helper packages for `torch`. For instance,\n",
    "the `torchmetrics` package has utilities to compute\n",
    "various metrics to evaluate performance when fitting\n",
    "a model. The `torchinfo` package provides a useful\n",
    "summary of the layers of a model. We use the `read_image()`\n",
    "function when loading test images in Section~\\ref{Ch13-deeplearning-lab:using-pretrained-cnn-models}.\n",
    "\n",
    "If you have not already installed the packages `torchvision`\n",
    "and `torchinfo` you can install them by running\n",
    "`pip install torchinfo torchvision`.\n",
    "We can now import from `torchinfo`.\n"
   ]
  },
  {
   "cell_type": "code",
   "execution_count": 3,
   "id": "aeae9bd9",
   "metadata": {},
   "outputs": [],
   "source": [
    "from torchmetrics import (MeanAbsoluteError,\n",
    "                          R2Score)\n",
    "from torchinfo import summary\n"
   ]
  },
  {
   "cell_type": "markdown",
   "id": "1049a398",
   "metadata": {},
   "source": [
    "The package `pytorch_lightning` is a somewhat higher-level\n",
    "interface to `torch` that simplifies the specification and\n",
    "fitting of\n",
    "models by reducing the amount of boilerplate code needed\n",
    "(compared to using `torch` alone)."
   ]
  },
  {
   "cell_type": "code",
   "execution_count": 4,
   "id": "a5a39702",
   "metadata": {},
   "outputs": [],
   "source": [
    "from pytorch_lightning import Trainer\n",
    "from pytorch_lightning.loggers import CSVLogger\n"
   ]
  },
  {
   "cell_type": "markdown",
   "id": "e1b27f4d",
   "metadata": {},
   "source": [
    "In order to reproduce results we use `seed_everything()`. We will also instruct `torch` to use deterministic algorithms\n",
    "where possible."
   ]
  },
  {
   "cell_type": "code",
   "execution_count": 5,
   "id": "11bf06a4",
   "metadata": {},
   "outputs": [
    {
     "name": "stderr",
     "output_type": "stream",
     "text": [
      "Seed set to 0\n"
     ]
    }
   ],
   "source": [
    "from pytorch_lightning import seed_everything\n",
    "seed_everything(0, workers=True)\n",
    "torch.use_deterministic_algorithms(True, warn_only=True)\n"
   ]
  },
  {
   "cell_type": "markdown",
   "id": "4bd719f8",
   "metadata": {},
   "source": [
    "We will use several datasets shipped with `torchvision` for our\n",
    "examples: a pretrained network for image classification,\n",
    "as well as some transforms used for preprocessing."
   ]
  },
  {
   "cell_type": "code",
   "execution_count": 6,
   "id": "062cd869",
   "metadata": {
    "lines_to_next_cell": 0
   },
   "outputs": [],
   "source": [
    "from torchvision.io import read_image\n",
    "from torchvision.datasets import MNIST, CIFAR100\n",
    "from torchvision.models import (resnet50,\n",
    "                                ResNet50_Weights)\n",
    "from torchvision.transforms import (Resize,\n",
    "                                    Normalize,\n",
    "                                    CenterCrop,\n",
    "                                    ToTensor)"
   ]
  },
  {
   "cell_type": "markdown",
   "id": "7c2a507a",
   "metadata": {},
   "source": [
    "We have provided a few utilities in `ISLP` specifically for this lab.\n",
    "The `SimpleDataModule` and `SimpleModule` are simple\n",
    "versions of objects used in `pytorch_lightning`, the\n",
    "high-level module for fitting `torch` models. Although more advanced\n",
    "uses such as computing on graphical processing units (GPUs) and parallel data processing\n",
    "are possible in this module, we will not be focusing much on these\n",
    "in this lab. The `ErrorTracker` handles\n",
    "collections of targets and predictions over each mini-batch\n",
    "in the validation or test stage, allowing computation\n",
    "of the metric over the entire validation or test data set."
   ]
  },
  {
   "cell_type": "code",
   "execution_count": 7,
   "id": "4a05884a",
   "metadata": {},
   "outputs": [],
   "source": [
    "from ISLP.torch import (SimpleDataModule,\n",
    "                        SimpleModule,\n",
    "                        ErrorTracker,\n",
    "                        rec_num_workers)\n"
   ]
  },
  {
   "cell_type": "markdown",
   "id": "a6f41487",
   "metadata": {},
   "source": [
    "In addition we have included some helper\n",
    "functions to load the\n",
    "`IMDb` database, as well as a lookup that maps integers\n",
    "to particular keys in the database. We’ve included\n",
    "a slightly modified copy of the preprocessed\n",
    "`IMDb` data from `keras`, a separate package\n",
    "for fitting deep learning models. This saves us significant\n",
    "preprocessing and allows us to focus on specifying and fitting\n",
    "the models themselves."
   ]
  },
  {
   "cell_type": "code",
   "execution_count": 8,
   "id": "1474e88b",
   "metadata": {},
   "outputs": [],
   "source": [
    "from ISLP.torch.imdb import (load_lookup,\n",
    "                             load_tensor,\n",
    "                             load_sparse,\n",
    "                             load_sequential)\n"
   ]
  },
  {
   "cell_type": "markdown",
   "id": "86123617",
   "metadata": {},
   "source": [
    "Finally, we introduce some utility imports  not directly related to\n",
    "`torch`.\n",
    "The `glob()` function from the `glob` module is used\n",
    "to find all files matching wildcard characters, which we will use\n",
    "in our example applying the `ResNet50` model\n",
    "to some of our own images.\n",
    "The `json` module will be used to load\n",
    "a JSON file for looking up classes to identify the labels of the\n",
    "pictures in the `ResNet50` example."
   ]
  },
  {
   "cell_type": "code",
   "execution_count": 9,
   "id": "0100ff28",
   "metadata": {
    "lines_to_next_cell": 2
   },
   "outputs": [],
   "source": [
    "from glob import glob\n",
    "import json\n"
   ]
  },
  {
   "cell_type": "markdown",
   "id": "b0f81cea",
   "metadata": {},
   "source": [
    "## Single Layer Network on Hitters Data\n",
    "We start by fitting the models in Section~\\ref{Ch13:sec:when-use-deep} on the `Hitters` data."
   ]
  },
  {
   "cell_type": "code",
   "execution_count": 10,
   "id": "ef59d53a",
   "metadata": {
    "lines_to_next_cell": 0
   },
   "outputs": [],
   "source": [
    "Hitters = load_data('Hitters').dropna()\n",
    "n = Hitters.shape[0]\n"
   ]
  },
  {
   "cell_type": "markdown",
   "id": "e302823e",
   "metadata": {},
   "source": [
    " We will fit two linear models (least squares  and lasso) and  compare their performance\n",
    "to that of a neural network. For this comparison we will use mean absolute error on a validation dataset.\n",
    "\\begin{equation*}\n",
    "\\begin{split}\n",
    "\\mbox{MAE}(y,\\hat{y}) = \\frac{1}{n} \\sum_{i=1}^n |y_i-\\hat{y}_i|.\n",
    "\\end{split}\n",
    "\\end{equation*}\n",
    "We set up the model matrix and the response."
   ]
  },
  {
   "cell_type": "code",
   "execution_count": 11,
   "id": "4deacf91",
   "metadata": {
    "lines_to_next_cell": 0
   },
   "outputs": [],
   "source": [
    "model = MS(Hitters.columns.drop('Salary'), intercept=False)\n",
    "X = model.fit_transform(Hitters).to_numpy()\n",
    "Y = Hitters['Salary'].to_numpy()\n"
   ]
  },
  {
   "cell_type": "markdown",
   "id": "d030ccab",
   "metadata": {},
   "source": [
    "The `to_numpy()`  method above converts `pandas`\n",
    "data frames or series to `numpy` arrays.\n",
    "We do this because we will need to  use `sklearn` to fit the lasso model,\n",
    "and it requires this conversion. \n",
    "We also use  a linear regression method from `sklearn`, rather than the method\n",
    "in Chapter~3 from `statsmodels`, to facilitate the comparisons."
   ]
  },
  {
   "cell_type": "markdown",
   "id": "13ffb53a",
   "metadata": {},
   "source": [
    "We now split the data into test and training, fixing the random\n",
    "state used by `sklearn` to do the split."
   ]
  },
  {
   "cell_type": "code",
   "execution_count": 12,
   "id": "8593f62b",
   "metadata": {},
   "outputs": [
    {
     "name": "stdout",
     "output_type": "stream",
     "text": [
      "(263, 19)\n",
      "(263,)\n"
     ]
    }
   ],
   "source": [
    "(X_train, \n",
    " X_test,\n",
    " Y_train,\n",
    " Y_test) = train_test_split(X,\n",
    "                            Y,\n",
    "                            test_size=1/3,\n",
    "                            random_state=1)\n",
    "\n",
    "print(X.shape)\n",
    "print(Y.shape)"
   ]
  },
  {
   "cell_type": "markdown",
   "id": "d1e980ad",
   "metadata": {},
   "source": [
    "### Linear Models\n",
    "We fit the linear model and evaluate the test error directly."
   ]
  },
  {
   "cell_type": "code",
   "execution_count": 13,
   "id": "54b14993",
   "metadata": {},
   "outputs": [
    {
     "data": {
      "text/plain": [
       "259.71528833146243"
      ]
     },
     "execution_count": 13,
     "metadata": {},
     "output_type": "execute_result"
    }
   ],
   "source": [
    "hit_lm = LinearRegression().fit(X_train, Y_train)\n",
    "Yhat_test = hit_lm.predict(X_test)\n",
    "np.abs(Yhat_test - Y_test).mean()"
   ]
  },
  {
   "cell_type": "markdown",
   "id": "c18abe13",
   "metadata": {},
   "source": [
    "Next we fit the lasso using `sklearn`. We are using\n",
    "mean absolute error to select and evaluate a model, rather than mean squared error.\n",
    "The specialized solver we used in Section~\\ref{Ch6-varselect-lab:lab-2-ridge-regression-and-the-lasso} uses only mean squared error. So here, with a bit more work,  we create a cross-validation grid and perform the cross-validation directly.  \n",
    "\n",
    "We encode a pipeline with two steps: we first normalize the features using a `StandardScaler()` transform,\n",
    "and then fit the lasso without further normalization. "
   ]
  },
  {
   "cell_type": "code",
   "execution_count": 14,
   "id": "84c668ad",
   "metadata": {},
   "outputs": [],
   "source": [
    "scaler = StandardScaler(with_mean=True, with_std=True)\n",
    "lasso = Lasso(warm_start=True, max_iter=30000)\n",
    "standard_lasso = Pipeline(steps=[('scaler', scaler),\n",
    "                                 ('lasso', lasso)])"
   ]
  },
  {
   "cell_type": "markdown",
   "id": "aab2c215",
   "metadata": {},
   "source": [
    "We need to create a grid of values for $\\lambda$. As is common practice, \n",
    "we choose a grid of 100 values of $\\lambda$, uniform on the log scale from `lam_max` down to  `0.01*lam_max`. Here  `lam_max` is the smallest value of\n",
    "$\\lambda$ with an  all-zero solution. This value equals the largest absolute inner-product between any predictor and the (centered) response. {The derivation of this result is beyond the scope of this book.}"
   ]
  },
  {
   "cell_type": "code",
   "execution_count": 15,
   "id": "093f8ce9",
   "metadata": {
    "lines_to_next_cell": 0
   },
   "outputs": [],
   "source": [
    "X_s = scaler.fit_transform(X_train)\n",
    "n = X_s.shape[0]\n",
    "lam_max = np.fabs(X_s.T.dot(Y_train - Y_train.mean())).max() / n\n",
    "param_grid = {'lasso__alpha': np.exp(np.linspace(0, np.log(0.01), 100))\n",
    "             * lam_max}"
   ]
  },
  {
   "cell_type": "markdown",
   "id": "def35611",
   "metadata": {},
   "source": [
    "Note that we had to transform the data first, since the scale of the variables impacts the choice of $\\lambda$.\n",
    "We now perform cross-validation using this sequence of $\\lambda$ values."
   ]
  },
  {
   "cell_type": "code",
   "execution_count": 16,
   "id": "38773381",
   "metadata": {},
   "outputs": [],
   "source": [
    "cv = KFold(10,\n",
    "           shuffle=True,\n",
    "           random_state=1)\n",
    "grid = GridSearchCV(standard_lasso,\n",
    "                    param_grid,\n",
    "                    cv=cv,\n",
    "                    scoring='neg_mean_absolute_error')\n",
    "grid.fit(X_train, Y_train);"
   ]
  },
  {
   "cell_type": "markdown",
   "id": "53f2dc95",
   "metadata": {},
   "source": [
    "We extract the lasso model with best cross-validated mean absolute error, and evaluate its\n",
    "performance on `X_test` and `Y_test`, which were not used in\n",
    "cross-validation."
   ]
  },
  {
   "cell_type": "code",
   "execution_count": 17,
   "id": "adc24a51",
   "metadata": {
    "lines_to_next_cell": 0
   },
   "outputs": [
    {
     "data": {
      "text/plain": [
       "235.67548374780287"
      ]
     },
     "execution_count": 17,
     "metadata": {},
     "output_type": "execute_result"
    }
   ],
   "source": [
    "trained_lasso = grid.best_estimator_\n",
    "Yhat_test = trained_lasso.predict(X_test)\n",
    "np.fabs(Yhat_test - Y_test).mean()"
   ]
  },
  {
   "cell_type": "markdown",
   "id": "252e9dc1",
   "metadata": {},
   "source": [
    "This is similar to the results we got for the linear model fit by least squares. However, these results can vary a lot for different train/test splits; we encourage the reader to try a different seed in code block 12 and rerun the subsequent code up to this point.\n",
    "\n",
    "### Specifying a Network: Classes and Inheritance\n",
    "To fit the neural network, we first set up a model structure\n",
    "that describes the network.\n",
    "Doing so requires us to define new classes specific to the model we wish to fit.\n",
    "Typically this is done in  `pytorch` by sub-classing a generic\n",
    "representation of a network, which is the approach we take here.\n",
    "Although this example is simple, we will go through the steps in some detail, since it will serve us well\n",
    "for the more complex examples to follow.\n"
   ]
  },
  {
   "cell_type": "code",
   "execution_count": 18,
   "id": "415cf74b",
   "metadata": {},
   "outputs": [],
   "source": [
    "class HittersModel(nn.Module):\n",
    "\n",
    "    def __init__(self, input_size):\n",
    "        super(HittersModel, self).__init__()\n",
    "        self.flatten = nn.Flatten()\n",
    "        self.sequential = nn.Sequential(\n",
    "            nn.Linear(input_size, 50),\n",
    "            nn.ReLU(),\n",
    "            nn.Dropout(0.4),\n",
    "            nn.Linear(50, 1))\n",
    "\n",
    "    def forward(self, x):\n",
    "        x = self.flatten(x)\n",
    "        return torch.flatten(self.sequential(x))\n"
   ]
  },
  {
   "cell_type": "markdown",
   "id": "ca326fd5",
   "metadata": {},
   "source": [
    "The `class` statement identifies the code chunk as a\n",
    "declaration for a class `HittersModel`\n",
    "that inherits from the  base class `nn.Module`. This base\n",
    "class is ubiquitous in `torch` and represents the\n",
    "mappings in the neural networks.\n",
    "\n",
    "Indented beneath the `class` statement are the methods of this class:\n",
    "in this case `__init__` and `forward`.  The `__init__` method is\n",
    "called when an instance of the class is created as in the cell\n",
    "below. In the methods, `self` always refers to an instance of the\n",
    "class. In the `__init__` method, we have attached two objects to\n",
    "`self` as attributes: `flatten` and `sequential`. These are used in\n",
    "the `forward` method to describe the map that this module implements.\n",
    "\n",
    "There is one additional line in the `__init__` method, which\n",
    "is a call to\n",
    "`super()`. This function allows subclasses (i.e. `HittersModel`)\n",
    "to access methods of the class they inherit from. For example,\n",
    "the class `nn.Module` has its own `__init__` method, which is different from\n",
    "the `HittersModel.__init__()` method we’ve written above.\n",
    "Using `super()` allows us to call the method of the base class. For\n",
    "`torch` models, we will always be making this `super()` call as it is necessary\n",
    "for the model to be properly interpreted by `torch`.\n",
    "\n",
    "The object `nn.Module` has more methods than simply `__init__` and `forward`. These\n",
    "methods are directly accessible to `HittersModel` instances because of this inheritance.\n",
    "One such method we will see shortly is the `eval()` method, used\n",
    "to disable dropout for when we want to evaluate the model on test data."
   ]
  },
  {
   "cell_type": "code",
   "execution_count": 19,
   "id": "60469c96",
   "metadata": {},
   "outputs": [],
   "source": [
    "hit_model = HittersModel(X.shape[1])\n"
   ]
  },
  {
   "cell_type": "markdown",
   "id": "114db3d4",
   "metadata": {},
   "source": [
    "The object `self.sequential` is a composition of four maps. The\n",
    "first maps the 19 features of `Hitters` to 50 dimensions, introducing $50\\times 19+50$ parameters\n",
    "for the weights and *intercept*  of the map (often called the *bias*). This layer\n",
    "is then mapped to a ReLU layer followed by a 40% dropout layer, and finally a\n",
    "linear map down to 1 dimension, again with a bias. The total number of\n",
    "trainable parameters is therefore $50\\times 19+50+50+1=1051$.\n",
    "\n",
    "    "
   ]
  },
  {
   "cell_type": "markdown",
   "id": "9f5be00d",
   "metadata": {},
   "source": [
    "The package `torchinfo` provides a `summary()` function that neatly summarizes\n",
    "this information. We specify the size of the input and see the size\n",
    "of each tensor as it passes through layers of the network. "
   ]
  },
  {
   "cell_type": "code",
   "execution_count": 20,
   "id": "84720ca7",
   "metadata": {
    "lines_to_next_cell": 0
   },
   "outputs": [
    {
     "data": {
      "text/plain": [
       "===================================================================================================================\n",
       "Layer (type:depth-idx)                   Input Shape               Output Shape              Param #\n",
       "===================================================================================================================\n",
       "HittersModel                             [175, 19]                 [175]                     --\n",
       "├─Flatten: 1-1                           [175, 19]                 [175, 19]                 --\n",
       "├─Sequential: 1-2                        [175, 19]                 [175, 1]                  --\n",
       "│    └─Linear: 2-1                       [175, 19]                 [175, 50]                 1,000\n",
       "│    └─ReLU: 2-2                         [175, 50]                 [175, 50]                 --\n",
       "│    └─Dropout: 2-3                      [175, 50]                 [175, 50]                 --\n",
       "│    └─Linear: 2-4                       [175, 50]                 [175, 1]                  51\n",
       "===================================================================================================================\n",
       "Total params: 1,051\n",
       "Trainable params: 1,051\n",
       "Non-trainable params: 0\n",
       "Total mult-adds (M): 0.18\n",
       "===================================================================================================================\n",
       "Input size (MB): 0.01\n",
       "Forward/backward pass size (MB): 0.07\n",
       "Params size (MB): 0.00\n",
       "Estimated Total Size (MB): 0.09\n",
       "==================================================================================================================="
      ]
     },
     "execution_count": 20,
     "metadata": {},
     "output_type": "execute_result"
    }
   ],
   "source": [
    "summary(hit_model, \n",
    "        input_size=X_train.shape,\n",
    "        col_names=['input_size',\n",
    "                   'output_size',\n",
    "                   'num_params'])\n"
   ]
  },
  {
   "cell_type": "markdown",
   "id": "48833aad",
   "metadata": {},
   "source": [
    "We have truncated the end of the output slightly, here and in subsequent uses.\n",
    "\n",
    "We now need to transform our training data into a form accessible to `torch`.\n",
    "The basic\n",
    "datatype in `torch` is a `tensor`, which is very similar\n",
    "to an `ndarray` from early chapters.\n",
    "We also note here that `torch` typically\n",
    "works with 32-bit (*single precision*)\n",
    "rather than 64-bit (*double precision*) floating point numbers.\n",
    "We therefore convert our data to `np.float32` before\n",
    "forming the tensor.\n",
    "The $X$ and $Y$ tensors are then arranged into a `Dataset`\n",
    "recognized by `torch`\n",
    "using `TensorDataset()`."
   ]
  },
  {
   "cell_type": "code",
   "execution_count": 21,
   "id": "6f8038ce",
   "metadata": {
    "lines_to_next_cell": 0
   },
   "outputs": [],
   "source": [
    "X_train_t = torch.tensor(X_train.astype(np.float32))\n",
    "Y_train_t = torch.tensor(Y_train.astype(np.float32))\n",
    "hit_train = TensorDataset(X_train_t, Y_train_t)"
   ]
  },
  {
   "cell_type": "markdown",
   "id": "3b0c854a",
   "metadata": {},
   "source": [
    "We do the same for the test data."
   ]
  },
  {
   "cell_type": "code",
   "execution_count": 22,
   "id": "ffe8314e",
   "metadata": {},
   "outputs": [],
   "source": [
    "X_test_t = torch.tensor(X_test.astype(np.float32))\n",
    "Y_test_t = torch.tensor(Y_test.astype(np.float32))\n",
    "hit_test = TensorDataset(X_test_t, Y_test_t)\n"
   ]
  },
  {
   "cell_type": "markdown",
   "id": "8806a619",
   "metadata": {},
   "source": [
    "Finally, this dataset is passed to a `DataLoader()` which ultimately\n",
    "passes data into our network. While this may seem\n",
    "like a lot of overhead, this structure is helpful for more\n",
    "complex tasks where data may live on different machines,\n",
    "or where data must be passed to a GPU.\n",
    "We provide a helper function `SimpleDataModule()` in `ISLP` to make this task easier for\n",
    "standard usage.\n",
    "One of its arguments is `num_workers`, which indicates\n",
    "how many processes we will use\n",
    "for loading the data. For small\n",
    "data like `Hitters` this will have little effect, but\n",
    "it does provide an advantage for the `MNIST`  and `CIFAR100` examples below.\n",
    "The `torch` package will inspect the process running and determine a\n",
    "maximum number of workers. {This depends on the computing hardware and the number of cores available.} We’ve included a function\n",
    "`rec_num_workers()` to compute this so we know how many\n",
    "workers might be reasonable (here the max was 16)."
   ]
  },
  {
   "cell_type": "code",
   "execution_count": 23,
   "id": "337f4f07",
   "metadata": {},
   "outputs": [],
   "source": [
    "max_num_workers = rec_num_workers()"
   ]
  },
  {
   "cell_type": "markdown",
   "id": "18928238",
   "metadata": {},
   "source": [
    "The general training setup in `pytorch_lightning` involves\n",
    "training, validation and test data. These are each\n",
    "represented by different data loaders. During each epoch,\n",
    "we run a training step to learn the model and a validation\n",
    "step to track the error. The test data is typically\n",
    "used at the end of training to evaluate the model.\n",
    "\n",
    "In this case, as we had split only into test and training,\n",
    "we’ll use the test data as validation data with the\n",
    "argument `validation=hit_test`. The\n",
    "`validation` argument can be a float between 0 and 1, an\n",
    "integer, or a\n",
    "`Dataset`. If a float (respectively, integer), it is interpreted\n",
    "as a percentage (respectively number) of the *training* observations to be used for validation.\n",
    "If it is a `Dataset`, it is passed directly to a data loader."
   ]
  },
  {
   "cell_type": "code",
   "execution_count": 24,
   "id": "c60b1e3f",
   "metadata": {},
   "outputs": [],
   "source": [
    "hit_dm = SimpleDataModule(hit_train,\n",
    "                          hit_test,\n",
    "                          batch_size=32,\n",
    "                          num_workers=min(4, max_num_workers),\n",
    "                          validation=hit_test)\n"
   ]
  },
  {
   "cell_type": "markdown",
   "id": "9e5f527d",
   "metadata": {},
   "source": [
    "Next we must provide a `pytorch_lightning` module that controls\n",
    "the steps performed during the training process. We provide methods for our\n",
    "`SimpleModule()` that simply record the value\n",
    "of the loss function and any additional\n",
    "metrics at the end of each epoch. These operations\n",
    "are controlled by the methods `SimpleModule.[training/test/validation]_step()`, though\n",
    "we will not be modifying these in our examples."
   ]
  },
  {
   "cell_type": "code",
   "execution_count": 25,
   "id": "916cfd66",
   "metadata": {},
   "outputs": [],
   "source": [
    "hit_module = SimpleModule.regression(hit_model,\n",
    "                           metrics={'mae':MeanAbsoluteError()})\n"
   ]
  },
  {
   "cell_type": "markdown",
   "id": "cf7f2d1b",
   "metadata": {},
   "source": [
    " By using the `SimpleModule.regression()` method,  we indicate that we will use squared-error loss as in\n",
    "(\\ref{Ch13:eq:4}).\n",
    "We have also asked for mean absolute error to be tracked as well\n",
    "in the metrics that are logged.\n",
    "\n",
    "We log our results via `CSVLogger()`, which in this case stores the results in a CSV file within a directory `logs/hitters`. After the fitting is complete, this allows us to load the\n",
    "results as a `pd.DataFrame()` and visualize them below. There are\n",
    "several ways to log the results within `pytorch_lightning`, though\n",
    "we will not cover those here in detail."
   ]
  },
  {
   "cell_type": "code",
   "execution_count": 26,
   "id": "44a44fb1",
   "metadata": {},
   "outputs": [],
   "source": [
    "hit_logger = CSVLogger('logs', name='hitters')"
   ]
  },
  {
   "cell_type": "markdown",
   "id": "f37f19f0",
   "metadata": {},
   "source": [
    "Finally we are ready to train our model and log the results. We\n",
    "use the `Trainer()` object from `pytorch_lightning`\n",
    "to do this work. The argument `datamodule=hit_dm` tells the trainer\n",
    "how training/validation/test logs are produced,\n",
    "while the first argument `hit_module`\n",
    "specifies the network architecture\n",
    "as well as the training/validation/test steps.\n",
    "The `callbacks` argument allows for\n",
    "several tasks to be carried out at various\n",
    "points while training a model. Here\n",
    "our `ErrorTracker()` callback will enable\n",
    "us to compute validation error while training\n",
    "and, finally, the test error.\n",
    "We now fit the model for 50 epochs."
   ]
  },
  {
   "cell_type": "code",
   "execution_count": 27,
   "id": "8e91122a",
   "metadata": {
    "lines_to_next_cell": 0,
    "scrolled": true
   },
   "outputs": [
    {
     "name": "stderr",
     "output_type": "stream",
     "text": [
      "GPU available: True (mps), used: True\n",
      "TPU available: False, using: 0 TPU cores\n",
      "HPU available: False, using: 0 HPUs\n",
      "\n",
      "  | Name  | Type         | Params | Mode \n",
      "-----------------------------------------------\n",
      "0 | model | HittersModel | 1.1 K  | train\n",
      "1 | loss  | MSELoss      | 0      | train\n",
      "-----------------------------------------------\n",
      "1.1 K     Trainable params\n",
      "0         Non-trainable params\n",
      "1.1 K     Total params\n",
      "0.004     Total estimated model params size (MB)\n",
      "8         Modules in train mode\n",
      "0         Modules in eval mode\n"
     ]
    },
    {
     "name": "stdout",
     "output_type": "stream",
     "text": [
      "Epoch 0: 100%|██████████| 6/6 [00:01<00:00,  3.79it/s, v_num=15]            \n",
      "Validation: |          | 0/? [00:00<?, ?it/s]\u001b[A\n",
      "Validation:   0%|          | 0/3 [00:00<?, ?it/s]\u001b[A\n",
      "Validation DataLoader 0:   0%|          | 0/3 [00:00<?, ?it/s]\u001b[A\n",
      "Validation DataLoader 0:  33%|███▎      | 1/3 [00:00<00:00, 683.56it/s]\u001b[A\n",
      "Validation DataLoader 0:  67%|██████▋   | 2/3 [00:00<00:00, 452.29it/s]\u001b[A\n",
      "Validation DataLoader 0: 100%|██████████| 3/3 [00:00<00:00, 119.55it/s]\u001b[A\n",
      "Epoch 1: 100%|██████████| 6/6 [00:00<00:00, 171.78it/s, v_num=15]      \u001b[A\n",
      "Validation: |          | 0/? [00:00<?, ?it/s]\u001b[A\n",
      "Validation:   0%|          | 0/3 [00:00<?, ?it/s]\u001b[A\n",
      "Validation DataLoader 0:   0%|          | 0/3 [00:00<?, ?it/s]\u001b[A\n",
      "Validation DataLoader 0:  33%|███▎      | 1/3 [00:00<00:00, 670.12it/s]\u001b[A\n",
      "Validation DataLoader 0:  67%|██████▋   | 2/3 [00:00<00:00, 287.80it/s]\u001b[A\n",
      "Validation DataLoader 0: 100%|██████████| 3/3 [00:00<00:00, 275.22it/s]\u001b[A\n",
      "Epoch 2: 100%|██████████| 6/6 [00:00<00:00, 165.15it/s, v_num=15]      \u001b[A\n",
      "Validation: |          | 0/? [00:00<?, ?it/s]\u001b[A\n",
      "Validation:   0%|          | 0/3 [00:00<?, ?it/s]\u001b[A\n",
      "Validation DataLoader 0:   0%|          | 0/3 [00:00<?, ?it/s]\u001b[A\n",
      "Validation DataLoader 0:  33%|███▎      | 1/3 [00:00<00:00, 523.31it/s]\u001b[A\n",
      "Validation DataLoader 0:  67%|██████▋   | 2/3 [00:00<00:00, 462.46it/s]\u001b[A\n",
      "Validation DataLoader 0: 100%|██████████| 3/3 [00:00<00:00, 460.07it/s]\u001b[A\n",
      "Epoch 3: 100%|██████████| 6/6 [00:00<00:00, 183.73it/s, v_num=15]      \u001b[A\n",
      "Validation: |          | 0/? [00:00<?, ?it/s]\u001b[A\n",
      "Validation:   0%|          | 0/3 [00:00<?, ?it/s]\u001b[A\n",
      "Validation DataLoader 0:   0%|          | 0/3 [00:00<?, ?it/s]\u001b[A\n",
      "Validation DataLoader 0:  33%|███▎      | 1/3 [00:00<00:00, 729.95it/s]\u001b[A\n",
      "Validation DataLoader 0:  67%|██████▋   | 2/3 [00:00<00:00, 638.16it/s]\u001b[A\n",
      "Validation DataLoader 0: 100%|██████████| 3/3 [00:00<00:00, 594.88it/s]\u001b[A\n",
      "Epoch 4: 100%|██████████| 6/6 [00:00<00:00, 198.13it/s, v_num=15]      \u001b[A\n",
      "Validation: |          | 0/? [00:00<?, ?it/s]\u001b[A\n",
      "Validation:   0%|          | 0/3 [00:00<?, ?it/s]\u001b[A\n",
      "Validation DataLoader 0:   0%|          | 0/3 [00:00<?, ?it/s]\u001b[A\n",
      "Validation DataLoader 0:  33%|███▎      | 1/3 [00:00<00:00, 629.78it/s]\u001b[A\n",
      "Validation DataLoader 0:  67%|██████▋   | 2/3 [00:00<00:00, 617.90it/s]\u001b[A\n",
      "Validation DataLoader 0: 100%|██████████| 3/3 [00:00<00:00, 587.79it/s]\u001b[A\n",
      "Epoch 5: 100%|██████████| 6/6 [00:00<00:00, 206.19it/s, v_num=15]      \u001b[A\n",
      "Validation: |          | 0/? [00:00<?, ?it/s]\u001b[A\n",
      "Validation:   0%|          | 0/3 [00:00<?, ?it/s]\u001b[A\n",
      "Validation DataLoader 0:   0%|          | 0/3 [00:00<?, ?it/s]\u001b[A\n",
      "Validation DataLoader 0:  33%|███▎      | 1/3 [00:00<00:00, 847.33it/s]\u001b[A\n",
      "Validation DataLoader 0:  67%|██████▋   | 2/3 [00:00<00:00, 659.38it/s]\u001b[A\n",
      "Validation DataLoader 0: 100%|██████████| 3/3 [00:00<00:00, 620.18it/s]\u001b[A\n",
      "Epoch 6: 100%|██████████| 6/6 [00:00<00:00, 193.19it/s, v_num=15]      \u001b[A\n",
      "Validation: |          | 0/? [00:00<?, ?it/s]\u001b[A\n",
      "Validation:   0%|          | 0/3 [00:00<?, ?it/s]\u001b[A\n",
      "Validation DataLoader 0:   0%|          | 0/3 [00:00<?, ?it/s]\u001b[A\n",
      "Validation DataLoader 0:  33%|███▎      | 1/3 [00:00<00:00, 717.83it/s]\u001b[A\n",
      "Validation DataLoader 0:  67%|██████▋   | 2/3 [00:00<00:00, 552.50it/s]\u001b[A\n",
      "Validation DataLoader 0: 100%|██████████| 3/3 [00:00<00:00, 525.12it/s]\u001b[A\n",
      "Epoch 7: 100%|██████████| 6/6 [00:00<00:00, 203.70it/s, v_num=15]      \u001b[A\n",
      "Validation: |          | 0/? [00:00<?, ?it/s]\u001b[A\n",
      "Validation:   0%|          | 0/3 [00:00<?, ?it/s]\u001b[A\n",
      "Validation DataLoader 0:   0%|          | 0/3 [00:00<?, ?it/s]\u001b[A\n",
      "Validation DataLoader 0:  33%|███▎      | 1/3 [00:00<00:00, 747.51it/s]\u001b[A\n",
      "Validation DataLoader 0:  67%|██████▋   | 2/3 [00:00<00:00, 642.07it/s]\u001b[A\n",
      "Validation DataLoader 0: 100%|██████████| 3/3 [00:00<00:00, 627.48it/s]\u001b[A\n",
      "Epoch 8: 100%|██████████| 6/6 [00:00<00:00, 198.58it/s, v_num=15]      \u001b[A\n",
      "Validation: |          | 0/? [00:00<?, ?it/s]\u001b[A\n",
      "Validation:   0%|          | 0/3 [00:00<?, ?it/s]\u001b[A\n",
      "Validation DataLoader 0:   0%|          | 0/3 [00:00<?, ?it/s]\u001b[A\n",
      "Validation DataLoader 0:  33%|███▎      | 1/3 [00:00<00:00, 642.71it/s]\u001b[A\n",
      "Validation DataLoader 0:  67%|██████▋   | 2/3 [00:00<00:00, 542.46it/s]\u001b[A\n",
      "Validation DataLoader 0: 100%|██████████| 3/3 [00:00<00:00, 526.59it/s]\u001b[A\n",
      "Epoch 9: 100%|██████████| 6/6 [00:00<00:00, 187.88it/s, v_num=15]      \u001b[A\n",
      "Validation: |          | 0/? [00:00<?, ?it/s]\u001b[A\n",
      "Validation:   0%|          | 0/3 [00:00<?, ?it/s]\u001b[A\n",
      "Validation DataLoader 0:   0%|          | 0/3 [00:00<?, ?it/s]\u001b[A\n",
      "Validation DataLoader 0:  33%|███▎      | 1/3 [00:00<00:00, 599.87it/s]\u001b[A\n",
      "Validation DataLoader 0:  67%|██████▋   | 2/3 [00:00<00:00, 469.16it/s]\u001b[A\n",
      "Validation DataLoader 0: 100%|██████████| 3/3 [00:00<00:00, 522.83it/s]\u001b[A\n",
      "Epoch 10: 100%|██████████| 6/6 [00:00<00:00, 194.33it/s, v_num=15]     \u001b[A\n",
      "Validation: |          | 0/? [00:00<?, ?it/s]\u001b[A\n",
      "Validation:   0%|          | 0/3 [00:00<?, ?it/s]\u001b[A\n",
      "Validation DataLoader 0:   0%|          | 0/3 [00:00<?, ?it/s]\u001b[A\n",
      "Validation DataLoader 0:  33%|███▎      | 1/3 [00:00<00:00, 749.65it/s]\u001b[A\n",
      "Validation DataLoader 0:  67%|██████▋   | 2/3 [00:00<00:00, 655.97it/s]\u001b[A\n",
      "Validation DataLoader 0: 100%|██████████| 3/3 [00:00<00:00, 612.52it/s]\u001b[A\n",
      "Epoch 11: 100%|██████████| 6/6 [00:00<00:00, 190.56it/s, v_num=15]     \u001b[A\n",
      "Validation: |          | 0/? [00:00<?, ?it/s]\u001b[A\n",
      "Validation:   0%|          | 0/3 [00:00<?, ?it/s]\u001b[A\n",
      "Validation DataLoader 0:   0%|          | 0/3 [00:00<?, ?it/s]\u001b[A\n",
      "Validation DataLoader 0:  33%|███▎      | 1/3 [00:00<00:00, 743.41it/s]\u001b[A\n",
      "Validation DataLoader 0:  67%|██████▋   | 2/3 [00:00<00:00, 591.16it/s]\u001b[A\n",
      "Validation DataLoader 0: 100%|██████████| 3/3 [00:00<00:00, 564.21it/s]\u001b[A\n",
      "Epoch 12: 100%|██████████| 6/6 [00:00<00:00, 193.20it/s, v_num=15]     \u001b[A\n",
      "Validation: |          | 0/? [00:00<?, ?it/s]\u001b[A\n",
      "Validation:   0%|          | 0/3 [00:00<?, ?it/s]\u001b[A\n",
      "Validation DataLoader 0:   0%|          | 0/3 [00:00<?, ?it/s]\u001b[A\n",
      "Validation DataLoader 0:  33%|███▎      | 1/3 [00:00<00:00, 590.66it/s]\u001b[A\n",
      "Validation DataLoader 0:  67%|██████▋   | 2/3 [00:00<00:00, 537.18it/s]\u001b[A\n",
      "Validation DataLoader 0: 100%|██████████| 3/3 [00:00<00:00, 520.30it/s]\u001b[A\n",
      "Epoch 13: 100%|██████████| 6/6 [00:00<00:00, 204.55it/s, v_num=15]     \u001b[A\n",
      "Validation: |          | 0/? [00:00<?, ?it/s]\u001b[A\n",
      "Validation:   0%|          | 0/3 [00:00<?, ?it/s]\u001b[A\n",
      "Validation DataLoader 0:   0%|          | 0/3 [00:00<?, ?it/s]\u001b[A\n",
      "Validation DataLoader 0:  33%|███▎      | 1/3 [00:00<00:00, 675.19it/s]\u001b[A\n",
      "Validation DataLoader 0:  67%|██████▋   | 2/3 [00:00<00:00, 544.36it/s]\u001b[A\n",
      "Validation DataLoader 0: 100%|██████████| 3/3 [00:00<00:00, 578.71it/s]\u001b[A\n",
      "Epoch 14: 100%|██████████| 6/6 [00:00<00:00, 195.56it/s, v_num=15]     \u001b[A\n",
      "Validation: |          | 0/? [00:00<?, ?it/s]\u001b[A\n",
      "Validation:   0%|          | 0/3 [00:00<?, ?it/s]\u001b[A\n",
      "Validation DataLoader 0:   0%|          | 0/3 [00:00<?, ?it/s]\u001b[A\n",
      "Validation DataLoader 0:  33%|███▎      | 1/3 [00:00<00:00, 876.37it/s]\u001b[A\n",
      "Validation DataLoader 0:  67%|██████▋   | 2/3 [00:00<00:00, 707.72it/s]\u001b[A\n",
      "Validation DataLoader 0: 100%|██████████| 3/3 [00:00<00:00, 683.22it/s]\u001b[A\n",
      "Epoch 15: 100%|██████████| 6/6 [00:00<00:00, 190.58it/s, v_num=15]     \u001b[A\n",
      "Validation: |          | 0/? [00:00<?, ?it/s]\u001b[A\n",
      "Validation:   0%|          | 0/3 [00:00<?, ?it/s]\u001b[A\n",
      "Validation DataLoader 0:   0%|          | 0/3 [00:00<?, ?it/s]\u001b[A\n",
      "Validation DataLoader 0:  33%|███▎      | 1/3 [00:00<00:00, 590.33it/s]\u001b[A\n",
      "Validation DataLoader 0:  67%|██████▋   | 2/3 [00:00<00:00, 525.34it/s]\u001b[A\n",
      "Validation DataLoader 0: 100%|██████████| 3/3 [00:00<00:00, 517.16it/s]\u001b[A\n",
      "Epoch 16: 100%|██████████| 6/6 [00:00<00:00, 189.02it/s, v_num=15]     \u001b[A\n",
      "Validation: |          | 0/? [00:00<?, ?it/s]\u001b[A\n",
      "Validation:   0%|          | 0/3 [00:00<?, ?it/s]\u001b[A\n",
      "Validation DataLoader 0:   0%|          | 0/3 [00:00<?, ?it/s]\u001b[A\n",
      "Validation DataLoader 0:  33%|███▎      | 1/3 [00:00<00:00, 586.86it/s]\u001b[A\n",
      "Validation DataLoader 0:  67%|██████▋   | 2/3 [00:00<00:00, 516.29it/s]\u001b[A\n",
      "Validation DataLoader 0: 100%|██████████| 3/3 [00:00<00:00, 521.12it/s]\u001b[A\n",
      "Epoch 17: 100%|██████████| 6/6 [00:00<00:00, 198.14it/s, v_num=15]     \u001b[A\n",
      "Validation: |          | 0/? [00:00<?, ?it/s]\u001b[A\n",
      "Validation:   0%|          | 0/3 [00:00<?, ?it/s]\u001b[A\n",
      "Validation DataLoader 0:   0%|          | 0/3 [00:00<?, ?it/s]\u001b[A\n",
      "Validation DataLoader 0:  33%|███▎      | 1/3 [00:00<00:00, 616.90it/s]\u001b[A\n",
      "Validation DataLoader 0:  67%|██████▋   | 2/3 [00:00<00:00, 540.22it/s]\u001b[A\n",
      "Validation DataLoader 0: 100%|██████████| 3/3 [00:00<00:00, 522.83it/s]\u001b[A\n",
      "Epoch 18: 100%|██████████| 6/6 [00:00<00:00, 135.69it/s, v_num=15]     \u001b[A\n",
      "Validation: |          | 0/? [00:00<?, ?it/s]\u001b[A\n",
      "Validation:   0%|          | 0/3 [00:00<?, ?it/s]\u001b[A\n",
      "Validation DataLoader 0:   0%|          | 0/3 [00:00<?, ?it/s]\u001b[A\n",
      "Validation DataLoader 0:  33%|███▎      | 1/3 [00:00<00:00, 671.09it/s]\u001b[A\n",
      "Validation DataLoader 0:  67%|██████▋   | 2/3 [00:00<00:00, 553.56it/s]\u001b[A\n",
      "Validation DataLoader 0: 100%|██████████| 3/3 [00:00<00:00, 533.81it/s]\u001b[A\n",
      "Epoch 19: 100%|██████████| 6/6 [00:00<00:00, 191.22it/s, v_num=15]     \u001b[A\n",
      "Validation: |          | 0/? [00:00<?, ?it/s]\u001b[A\n",
      "Validation:   0%|          | 0/3 [00:00<?, ?it/s]\u001b[A\n",
      "Validation DataLoader 0:   0%|          | 0/3 [00:00<?, ?it/s]\u001b[A\n",
      "Validation DataLoader 0:  33%|███▎      | 1/3 [00:00<00:00, 895.07it/s]\u001b[A\n",
      "Validation DataLoader 0:  67%|██████▋   | 2/3 [00:00<00:00, 771.58it/s]\u001b[A\n",
      "Validation DataLoader 0: 100%|██████████| 3/3 [00:00<00:00, 698.31it/s]\u001b[A\n",
      "Epoch 20: 100%|██████████| 6/6 [00:00<00:00, 213.40it/s, v_num=15]     \u001b[A\n",
      "Validation: |          | 0/? [00:00<?, ?it/s]\u001b[A\n",
      "Validation:   0%|          | 0/3 [00:00<?, ?it/s]\u001b[A\n",
      "Validation DataLoader 0:   0%|          | 0/3 [00:00<?, ?it/s]\u001b[A\n",
      "Validation DataLoader 0:  33%|███▎      | 1/3 [00:00<00:00, 643.99it/s]\u001b[A\n",
      "Validation DataLoader 0:  67%|██████▋   | 2/3 [00:00<00:00, 575.03it/s]\u001b[A\n",
      "Validation DataLoader 0: 100%|██████████| 3/3 [00:00<00:00, 576.38it/s]\u001b[A\n",
      "Epoch 21: 100%|██████████| 6/6 [00:00<00:00, 201.42it/s, v_num=15]     \u001b[A\n",
      "Validation: |          | 0/? [00:00<?, ?it/s]\u001b[A\n",
      "Validation:   0%|          | 0/3 [00:00<?, ?it/s]\u001b[A\n",
      "Validation DataLoader 0:   0%|          | 0/3 [00:00<?, ?it/s]\u001b[A\n",
      "Validation DataLoader 0:  33%|███▎      | 1/3 [00:00<00:00, 776.44it/s]\u001b[A\n",
      "Validation DataLoader 0:  67%|██████▋   | 2/3 [00:00<00:00, 671.36it/s]\u001b[A\n",
      "Validation DataLoader 0: 100%|██████████| 3/3 [00:00<00:00, 586.73it/s]\u001b[A\n",
      "Epoch 22: 100%|██████████| 6/6 [00:00<00:00, 200.92it/s, v_num=15]     \u001b[A\n",
      "Validation: |          | 0/? [00:00<?, ?it/s]\u001b[A\n",
      "Validation:   0%|          | 0/3 [00:00<?, ?it/s]\u001b[A\n",
      "Validation DataLoader 0:   0%|          | 0/3 [00:00<?, ?it/s]\u001b[A\n",
      "Validation DataLoader 0:  33%|███▎      | 1/3 [00:00<00:00, 721.04it/s]\u001b[A\n",
      "Validation DataLoader 0:  67%|██████▋   | 2/3 [00:00<00:00, 605.89it/s]\u001b[A\n",
      "Validation DataLoader 0: 100%|██████████| 3/3 [00:00<00:00, 569.59it/s]\u001b[A\n",
      "Epoch 23: 100%|██████████| 6/6 [00:00<00:00, 214.86it/s, v_num=15]     \u001b[A\n",
      "Validation: |          | 0/? [00:00<?, ?it/s]\u001b[A\n",
      "Validation:   0%|          | 0/3 [00:00<?, ?it/s]\u001b[A\n",
      "Validation DataLoader 0:   0%|          | 0/3 [00:00<?, ?it/s]\u001b[A\n",
      "Validation DataLoader 0:  33%|███▎      | 1/3 [00:00<00:00, 720.92it/s]\u001b[A\n",
      "Validation DataLoader 0:  67%|██████▋   | 2/3 [00:00<00:00, 656.85it/s]\u001b[A\n",
      "Validation DataLoader 0: 100%|██████████| 3/3 [00:00<00:00, 636.69it/s]\u001b[A\n",
      "Epoch 24: 100%|██████████| 6/6 [00:00<00:00, 215.09it/s, v_num=15]     \u001b[A\n",
      "Validation: |          | 0/? [00:00<?, ?it/s]\u001b[A\n",
      "Validation:   0%|          | 0/3 [00:00<?, ?it/s]\u001b[A\n",
      "Validation DataLoader 0:   0%|          | 0/3 [00:00<?, ?it/s]\u001b[A\n",
      "Validation DataLoader 0:  33%|███▎      | 1/3 [00:00<00:00, 826.46it/s]\u001b[A\n",
      "Validation DataLoader 0:  67%|██████▋   | 2/3 [00:00<00:00, 661.35it/s]\u001b[A\n",
      "Validation DataLoader 0: 100%|██████████| 3/3 [00:00<00:00, 629.74it/s]\u001b[A\n",
      "Epoch 25: 100%|██████████| 6/6 [00:00<00:00, 203.82it/s, v_num=15]     \u001b[A\n",
      "Validation: |          | 0/? [00:00<?, ?it/s]\u001b[A\n",
      "Validation:   0%|          | 0/3 [00:00<?, ?it/s]\u001b[A\n",
      "Validation DataLoader 0:   0%|          | 0/3 [00:00<?, ?it/s]\u001b[A\n",
      "Validation DataLoader 0:  33%|███▎      | 1/3 [00:00<00:00, 761.49it/s]\u001b[A\n",
      "Validation DataLoader 0:  67%|██████▋   | 2/3 [00:00<00:00, 568.18it/s]\u001b[A\n",
      "Validation DataLoader 0: 100%|██████████| 3/3 [00:00<00:00, 575.69it/s]\u001b[A\n",
      "Epoch 26: 100%|██████████| 6/6 [00:00<00:00, 207.63it/s, v_num=15]     \u001b[A\n",
      "Validation: |          | 0/? [00:00<?, ?it/s]\u001b[A\n",
      "Validation:   0%|          | 0/3 [00:00<?, ?it/s]\u001b[A\n",
      "Validation DataLoader 0:   0%|          | 0/3 [00:00<?, ?it/s]\u001b[A\n",
      "Validation DataLoader 0:  33%|███▎      | 1/3 [00:00<00:00, 659.17it/s]\u001b[A\n",
      "Validation DataLoader 0:  67%|██████▋   | 2/3 [00:00<00:00, 566.07it/s]\u001b[A\n",
      "Validation DataLoader 0: 100%|██████████| 3/3 [00:00<00:00, 581.41it/s]\u001b[A\n",
      "Epoch 27: 100%|██████████| 6/6 [00:00<00:00, 194.78it/s, v_num=15]     \u001b[A\n",
      "Validation: |          | 0/? [00:00<?, ?it/s]\u001b[A\n",
      "Validation:   0%|          | 0/3 [00:00<?, ?it/s]\u001b[A\n",
      "Validation DataLoader 0:   0%|          | 0/3 [00:00<?, ?it/s]\u001b[A\n",
      "Validation DataLoader 0:  33%|███▎      | 1/3 [00:00<00:00, 743.67it/s]\u001b[A\n",
      "Validation DataLoader 0:  67%|██████▋   | 2/3 [00:00<00:00, 587.23it/s]\u001b[A\n",
      "Validation DataLoader 0: 100%|██████████| 3/3 [00:00<00:00, 584.14it/s]\u001b[A\n",
      "Epoch 28: 100%|██████████| 6/6 [00:00<00:00, 199.30it/s, v_num=15]     \u001b[A\n",
      "Validation: |          | 0/? [00:00<?, ?it/s]\u001b[A\n",
      "Validation:   0%|          | 0/3 [00:00<?, ?it/s]\u001b[A\n",
      "Validation DataLoader 0:   0%|          | 0/3 [00:00<?, ?it/s]\u001b[A\n",
      "Validation DataLoader 0:  33%|███▎      | 1/3 [00:00<00:00, 665.45it/s]\u001b[A\n",
      "Validation DataLoader 0:  67%|██████▋   | 2/3 [00:00<00:00, 564.97it/s]\u001b[A\n",
      "Validation DataLoader 0: 100%|██████████| 3/3 [00:00<00:00, 562.34it/s]\u001b[A\n",
      "Epoch 29: 100%|██████████| 6/6 [00:00<00:00, 201.10it/s, v_num=15]     \u001b[A\n",
      "Validation: |          | 0/? [00:00<?, ?it/s]\u001b[A\n",
      "Validation:   0%|          | 0/3 [00:00<?, ?it/s]\u001b[A\n",
      "Validation DataLoader 0:   0%|          | 0/3 [00:00<?, ?it/s]\u001b[A\n",
      "Validation DataLoader 0:  33%|███▎      | 1/3 [00:00<00:00, 798.15it/s]\u001b[A\n",
      "Validation DataLoader 0:  67%|██████▋   | 2/3 [00:00<00:00, 639.81it/s]\u001b[A\n",
      "Validation DataLoader 0: 100%|██████████| 3/3 [00:00<00:00, 588.12it/s]\u001b[A\n",
      "Epoch 30: 100%|██████████| 6/6 [00:00<00:00, 218.14it/s, v_num=15]     \u001b[A\n",
      "Validation: |          | 0/? [00:00<?, ?it/s]\u001b[A\n",
      "Validation:   0%|          | 0/3 [00:00<?, ?it/s]\u001b[A\n",
      "Validation DataLoader 0:   0%|          | 0/3 [00:00<?, ?it/s]\u001b[A\n",
      "Validation DataLoader 0:  33%|███▎      | 1/3 [00:00<00:00, 662.82it/s]\u001b[A\n",
      "Validation DataLoader 0:  67%|██████▋   | 2/3 [00:00<00:00, 537.80it/s]\u001b[A\n",
      "Validation DataLoader 0: 100%|██████████| 3/3 [00:00<00:00, 540.18it/s]\u001b[A\n",
      "Epoch 31: 100%|██████████| 6/6 [00:00<00:00, 202.27it/s, v_num=15]     \u001b[A\n",
      "Validation: |          | 0/? [00:00<?, ?it/s]\u001b[A\n",
      "Validation:   0%|          | 0/3 [00:00<?, ?it/s]\u001b[A\n",
      "Validation DataLoader 0:   0%|          | 0/3 [00:00<?, ?it/s]\u001b[A\n",
      "Validation DataLoader 0:  33%|███▎      | 1/3 [00:00<00:00, 789.89it/s]\u001b[A\n",
      "Validation DataLoader 0:  67%|██████▋   | 2/3 [00:00<00:00, 645.18it/s]\u001b[A\n",
      "Validation DataLoader 0: 100%|██████████| 3/3 [00:00<00:00, 593.95it/s]\u001b[A\n",
      "Epoch 32: 100%|██████████| 6/6 [00:00<00:00, 177.38it/s, v_num=15]     \u001b[A\n",
      "Validation: |          | 0/? [00:00<?, ?it/s]\u001b[A\n",
      "Validation:   0%|          | 0/3 [00:00<?, ?it/s]\u001b[A\n",
      "Validation DataLoader 0:   0%|          | 0/3 [00:00<?, ?it/s]\u001b[A\n",
      "Validation DataLoader 0:  33%|███▎      | 1/3 [00:00<00:00, 608.31it/s]\u001b[A\n",
      "Validation DataLoader 0:  67%|██████▋   | 2/3 [00:00<00:00, 440.93it/s]\u001b[A\n",
      "Validation DataLoader 0: 100%|██████████| 3/3 [00:00<00:00, 442.62it/s]\u001b[A\n",
      "Epoch 33: 100%|██████████| 6/6 [00:00<00:00, 194.90it/s, v_num=15]     \u001b[A\n",
      "Validation: |          | 0/? [00:00<?, ?it/s]\u001b[A\n",
      "Validation:   0%|          | 0/3 [00:00<?, ?it/s]\u001b[A\n",
      "Validation DataLoader 0:   0%|          | 0/3 [00:00<?, ?it/s]\u001b[A\n",
      "Validation DataLoader 0:  33%|███▎      | 1/3 [00:00<00:00, 761.63it/s]\u001b[A\n",
      "Validation DataLoader 0:  67%|██████▋   | 2/3 [00:00<00:00, 587.23it/s]\u001b[A\n",
      "Validation DataLoader 0: 100%|██████████| 3/3 [00:00<00:00, 551.98it/s]\u001b[A\n",
      "Epoch 34: 100%|██████████| 6/6 [00:00<00:00, 135.94it/s, v_num=15]     \u001b[A\n",
      "Validation: |          | 0/? [00:00<?, ?it/s]\u001b[A\n",
      "Validation:   0%|          | 0/3 [00:00<?, ?it/s]\u001b[A\n",
      "Validation DataLoader 0:   0%|          | 0/3 [00:00<?, ?it/s]\u001b[A\n",
      "Validation DataLoader 0:  33%|███▎      | 1/3 [00:00<00:00, 641.43it/s]\u001b[A\n",
      "Validation DataLoader 0:  67%|██████▋   | 2/3 [00:00<00:00, 555.24it/s]\u001b[A\n",
      "Validation DataLoader 0: 100%|██████████| 3/3 [00:00<00:00, 551.57it/s]\u001b[A\n",
      "Epoch 35: 100%|██████████| 6/6 [00:00<00:00, 202.76it/s, v_num=15]     \u001b[A\n",
      "Validation: |          | 0/? [00:00<?, ?it/s]\u001b[A\n",
      "Validation:   0%|          | 0/3 [00:00<?, ?it/s]\u001b[A\n",
      "Validation DataLoader 0:   0%|          | 0/3 [00:00<?, ?it/s]\u001b[A\n",
      "Validation DataLoader 0:  33%|███▎      | 1/3 [00:00<00:00, 830.56it/s]\u001b[A\n",
      "Validation DataLoader 0:  67%|██████▋   | 2/3 [00:00<00:00, 659.84it/s]\u001b[A\n",
      "Validation DataLoader 0: 100%|██████████| 3/3 [00:00<00:00, 629.71it/s]\u001b[A\n",
      "Epoch 36: 100%|██████████| 6/6 [00:00<00:00, 194.82it/s, v_num=15]     \u001b[A\n",
      "Validation: |          | 0/? [00:00<?, ?it/s]\u001b[A\n",
      "Validation:   0%|          | 0/3 [00:00<?, ?it/s]\u001b[A\n",
      "Validation DataLoader 0:   0%|          | 0/3 [00:00<?, ?it/s]\u001b[A\n",
      "Validation DataLoader 0:  33%|███▎      | 1/3 [00:00<00:00, 769.88it/s]\u001b[A\n",
      "Validation DataLoader 0:  67%|██████▋   | 2/3 [00:00<00:00, 598.63it/s]\u001b[A\n",
      "Validation DataLoader 0: 100%|██████████| 3/3 [00:00<00:00, 591.50it/s]\u001b[A\n",
      "Epoch 37: 100%|██████████| 6/6 [00:00<00:00, 200.25it/s, v_num=15]     \u001b[A\n",
      "Validation: |          | 0/? [00:00<?, ?it/s]\u001b[A\n",
      "Validation:   0%|          | 0/3 [00:00<?, ?it/s]\u001b[A\n",
      "Validation DataLoader 0:   0%|          | 0/3 [00:00<?, ?it/s]\u001b[A\n",
      "Validation DataLoader 0:  33%|███▎      | 1/3 [00:00<00:00, 787.37it/s]\u001b[A\n",
      "Validation DataLoader 0:  67%|██████▋   | 2/3 [00:00<00:00, 677.54it/s]\u001b[A\n",
      "Validation DataLoader 0: 100%|██████████| 3/3 [00:00<00:00, 655.16it/s]\u001b[A\n",
      "Epoch 38: 100%|██████████| 6/6 [00:00<00:00, 212.23it/s, v_num=15]     \u001b[A\n",
      "Validation: |          | 0/? [00:00<?, ?it/s]\u001b[A\n",
      "Validation:   0%|          | 0/3 [00:00<?, ?it/s]\u001b[A\n",
      "Validation DataLoader 0:   0%|          | 0/3 [00:00<?, ?it/s]\u001b[A\n",
      "Validation DataLoader 0:  33%|███▎      | 1/3 [00:00<00:00, 749.52it/s]\u001b[A\n",
      "Validation DataLoader 0:  67%|██████▋   | 2/3 [00:00<00:00, 667.94it/s]\u001b[A\n",
      "Validation DataLoader 0: 100%|██████████| 3/3 [00:00<00:00, 637.76it/s]\u001b[A\n",
      "Epoch 39: 100%|██████████| 6/6 [00:00<00:00, 204.89it/s, v_num=15]     \u001b[A\n",
      "Validation: |          | 0/? [00:00<?, ?it/s]\u001b[A\n",
      "Validation:   0%|          | 0/3 [00:00<?, ?it/s]\u001b[A\n",
      "Validation DataLoader 0:   0%|          | 0/3 [00:00<?, ?it/s]\u001b[A\n",
      "Validation DataLoader 0:  33%|███▎      | 1/3 [00:00<00:00, 608.22it/s]\u001b[A\n",
      "Validation DataLoader 0:  67%|██████▋   | 2/3 [00:00<00:00, 453.32it/s]\u001b[A\n",
      "Validation DataLoader 0: 100%|██████████| 3/3 [00:00<00:00, 499.18it/s]\u001b[A\n",
      "Epoch 40: 100%|██████████| 6/6 [00:00<00:00, 195.55it/s, v_num=15]     \u001b[A\n",
      "Validation: |          | 0/? [00:00<?, ?it/s]\u001b[A\n",
      "Validation:   0%|          | 0/3 [00:00<?, ?it/s]\u001b[A\n",
      "Validation DataLoader 0:   0%|          | 0/3 [00:00<?, ?it/s]\u001b[A\n",
      "Validation DataLoader 0:  33%|███▎      | 1/3 [00:00<00:00, 665.76it/s]\u001b[A\n",
      "Validation DataLoader 0:  67%|██████▋   | 2/3 [00:00<00:00, 609.37it/s]\u001b[A\n",
      "Validation DataLoader 0: 100%|██████████| 3/3 [00:00<00:00, 597.62it/s]\u001b[A\n",
      "Epoch 41: 100%|██████████| 6/6 [00:00<00:00, 207.91it/s, v_num=15]     \u001b[A\n",
      "Validation: |          | 0/? [00:00<?, ?it/s]\u001b[A\n",
      "Validation:   0%|          | 0/3 [00:00<?, ?it/s]\u001b[A\n",
      "Validation DataLoader 0:   0%|          | 0/3 [00:00<?, ?it/s]\u001b[A\n",
      "Validation DataLoader 0:  33%|███▎      | 1/3 [00:00<00:00, 794.23it/s]\u001b[A\n",
      "Validation DataLoader 0:  67%|██████▋   | 2/3 [00:00<00:00, 671.79it/s]\u001b[A\n",
      "Validation DataLoader 0: 100%|██████████| 3/3 [00:00<00:00, 607.40it/s]\u001b[A\n",
      "Epoch 42: 100%|██████████| 6/6 [00:00<00:00, 203.37it/s, v_num=15]     \u001b[A\n",
      "Validation: |          | 0/? [00:00<?, ?it/s]\u001b[A\n",
      "Validation:   0%|          | 0/3 [00:00<?, ?it/s]\u001b[A\n",
      "Validation DataLoader 0:   0%|          | 0/3 [00:00<?, ?it/s]\u001b[A\n",
      "Validation DataLoader 0:  33%|███▎      | 1/3 [00:00<00:00, 661.35it/s]\u001b[A\n",
      "Validation DataLoader 0:  67%|██████▋   | 2/3 [00:00<00:00, 633.48it/s]\u001b[A\n",
      "Validation DataLoader 0: 100%|██████████| 3/3 [00:00<00:00, 602.51it/s]\u001b[A\n",
      "Epoch 43: 100%|██████████| 6/6 [00:00<00:00, 216.25it/s, v_num=15]     \u001b[A\n",
      "Validation: |          | 0/? [00:00<?, ?it/s]\u001b[A\n",
      "Validation:   0%|          | 0/3 [00:00<?, ?it/s]\u001b[A\n",
      "Validation DataLoader 0:   0%|          | 0/3 [00:00<?, ?it/s]\u001b[A\n",
      "Validation DataLoader 0:  33%|███▎      | 1/3 [00:00<00:00, 760.39it/s]\u001b[A\n",
      "Validation DataLoader 0:  67%|██████▋   | 2/3 [00:00<00:00, 661.61it/s]\u001b[A\n",
      "Validation DataLoader 0: 100%|██████████| 3/3 [00:00<00:00, 616.27it/s]\u001b[A\n",
      "Epoch 44: 100%|██████████| 6/6 [00:00<00:00, 205.00it/s, v_num=15]     \u001b[A\n",
      "Validation: |          | 0/? [00:00<?, ?it/s]\u001b[A\n",
      "Validation:   0%|          | 0/3 [00:00<?, ?it/s]\u001b[A\n",
      "Validation DataLoader 0:   0%|          | 0/3 [00:00<?, ?it/s]\u001b[A\n",
      "Validation DataLoader 0:  33%|███▎      | 1/3 [00:00<00:00, 882.45it/s]\u001b[A\n",
      "Validation DataLoader 0:  67%|██████▋   | 2/3 [00:00<00:00, 652.05it/s]\u001b[A\n",
      "Validation DataLoader 0: 100%|██████████| 3/3 [00:00<00:00, 641.56it/s]\u001b[A\n",
      "Epoch 45: 100%|██████████| 6/6 [00:00<00:00, 200.97it/s, v_num=15]     \u001b[A\n",
      "Validation: |          | 0/? [00:00<?, ?it/s]\u001b[A\n",
      "Validation:   0%|          | 0/3 [00:00<?, ?it/s]\u001b[A\n",
      "Validation DataLoader 0:   0%|          | 0/3 [00:00<?, ?it/s]\u001b[A\n",
      "Validation DataLoader 0:  33%|███▎      | 1/3 [00:00<00:00, 682.11it/s]\u001b[A\n",
      "Validation DataLoader 0:  67%|██████▋   | 2/3 [00:00<00:00, 571.08it/s]\u001b[A\n",
      "Validation DataLoader 0: 100%|██████████| 3/3 [00:00<00:00, 567.85it/s]\u001b[A\n",
      "Epoch 46: 100%|██████████| 6/6 [00:00<00:00, 210.18it/s, v_num=15]     \u001b[A\n",
      "Validation: |          | 0/? [00:00<?, ?it/s]\u001b[A\n",
      "Validation:   0%|          | 0/3 [00:00<?, ?it/s]\u001b[A\n",
      "Validation DataLoader 0:   0%|          | 0/3 [00:00<?, ?it/s]\u001b[A\n",
      "Validation DataLoader 0:  33%|███▎      | 1/3 [00:00<00:00, 710.18it/s]\u001b[A\n",
      "Validation DataLoader 0:  67%|██████▋   | 2/3 [00:00<00:00, 561.64it/s]\u001b[A\n",
      "Validation DataLoader 0: 100%|██████████| 3/3 [00:00<00:00, 571.46it/s]\u001b[A\n",
      "Epoch 47: 100%|██████████| 6/6 [00:00<00:00, 207.94it/s, v_num=15]     \u001b[A\n",
      "Validation: |          | 0/? [00:00<?, ?it/s]\u001b[A\n",
      "Validation:   0%|          | 0/3 [00:00<?, ?it/s]\u001b[A\n",
      "Validation DataLoader 0:   0%|          | 0/3 [00:00<?, ?it/s]\u001b[A\n",
      "Validation DataLoader 0:  33%|███▎      | 1/3 [00:00<00:00, 747.78it/s]\u001b[A\n",
      "Validation DataLoader 0:  67%|██████▋   | 2/3 [00:00<00:00, 667.09it/s]\u001b[A\n",
      "Validation DataLoader 0: 100%|██████████| 3/3 [00:00<00:00, 650.21it/s]\u001b[A\n",
      "Epoch 48: 100%|██████████| 6/6 [00:00<00:00, 215.72it/s, v_num=15]     \u001b[A\n",
      "Validation: |          | 0/? [00:00<?, ?it/s]\u001b[A\n",
      "Validation:   0%|          | 0/3 [00:00<?, ?it/s]\u001b[A\n",
      "Validation DataLoader 0:   0%|          | 0/3 [00:00<?, ?it/s]\u001b[A\n",
      "Validation DataLoader 0:  33%|███▎      | 1/3 [00:00<00:00, 746.32it/s]\u001b[A\n",
      "Validation DataLoader 0:  67%|██████▋   | 2/3 [00:00<00:00, 646.82it/s]\u001b[A\n",
      "Validation DataLoader 0: 100%|██████████| 3/3 [00:00<00:00, 642.41it/s]\u001b[A\n",
      "Epoch 49: 100%|██████████| 6/6 [00:00<00:00, 208.00it/s, v_num=15]     \u001b[A\n",
      "Validation: |          | 0/? [00:00<?, ?it/s]\u001b[A\n",
      "Validation:   0%|          | 0/3 [00:00<?, ?it/s]\u001b[A\n",
      "Validation DataLoader 0:   0%|          | 0/3 [00:00<?, ?it/s]\u001b[A\n",
      "Validation DataLoader 0:  33%|███▎      | 1/3 [00:00<00:00, 792.42it/s]\u001b[A\n",
      "Validation DataLoader 0:  67%|██████▋   | 2/3 [00:00<00:00, 563.41it/s]\u001b[A\n",
      "Validation DataLoader 0: 100%|██████████| 3/3 [00:00<00:00, 562.64it/s]\u001b[A\n",
      "Epoch 49: 100%|██████████| 6/6 [00:00<00:00, 137.18it/s, v_num=15]     \u001b[A"
     ]
    },
    {
     "name": "stderr",
     "output_type": "stream",
     "text": [
      "`Trainer.fit` stopped: `max_epochs=50` reached.\n"
     ]
    },
    {
     "name": "stdout",
     "output_type": "stream",
     "text": [
      "Epoch 49: 100%|██████████| 6/6 [00:00<00:00, 122.92it/s, v_num=15]\n"
     ]
    }
   ],
   "source": [
    "hit_trainer = Trainer(deterministic=True,\n",
    "                      max_epochs=50,\n",
    "                      log_every_n_steps=5,\n",
    "                      logger=hit_logger,\n",
    "                      callbacks=[ErrorTracker()])\n",
    "hit_trainer.fit(hit_module, datamodule=hit_dm)"
   ]
  },
  {
   "cell_type": "markdown",
   "id": "67e67f2d",
   "metadata": {},
   "source": [
    "At each step of SGD, the algorithm randomly selects 32 training observations for\n",
    "the computation of the gradient. Recall from Section~\\ref{Ch13:sec:fitt-neur-netw}\n",
    "that an epoch amounts to the number of SGD steps required to process $n$\n",
    "observations. Since the training set has\n",
    "$n=175$, and we specified a `batch_size` of 32 in the construction of  `hit_dm`, an epoch is $175/32=5.5$ SGD steps.\n",
    "\n",
    "After having fit the model, we can evaluate performance on our test\n",
    "data using the `test()` method of our trainer."
   ]
  },
  {
   "cell_type": "code",
   "execution_count": 28,
   "id": "e6012d1f",
   "metadata": {
    "lines_to_next_cell": 2
   },
   "outputs": [
    {
     "name": "stdout",
     "output_type": "stream",
     "text": [
      "Testing DataLoader 0: 100%|██████████| 3/3 [00:00<00:00, 187.82it/s] \n",
      "────────────────────────────────────────────────────────────────────────────────────────────────────────────────────────\n",
      "       Test metric             DataLoader 0\n",
      "────────────────────────────────────────────────────────────────────────────────────────────────────────────────────────\n",
      "        test_loss              107904.640625\n",
      "        test_mae             221.8314971923828\n",
      "────────────────────────────────────────────────────────────────────────────────────────────────────────────────────────\n"
     ]
    },
    {
     "data": {
      "text/plain": [
       "[{'test_loss': 107904.640625, 'test_mae': 221.8314971923828}]"
      ]
     },
     "execution_count": 28,
     "metadata": {},
     "output_type": "execute_result"
    }
   ],
   "source": [
    "hit_trainer.test(hit_module, datamodule=hit_dm)\n"
   ]
  },
  {
   "cell_type": "markdown",
   "id": "88fcc245",
   "metadata": {},
   "source": [
    "The results of the fit have been logged into a CSV file. We can find the\n",
    "results specific to this run in the `experiment.metrics_file_path`\n",
    "attribute of our logger. Note that each time the model is fit, the logger will output\n",
    "results into a new subdirectory of our directory `logs/hitters`.\n",
    "\n",
    "We now create a plot of the MAE (mean absolute error) as a function of\n",
    "the number of epochs.\n",
    "First we retrieve the logged summaries."
   ]
  },
  {
   "cell_type": "code",
   "execution_count": 29,
   "id": "48313d02",
   "metadata": {},
   "outputs": [],
   "source": [
    "hit_results = pd.read_csv(hit_logger.experiment.metrics_file_path)"
   ]
  },
  {
   "cell_type": "markdown",
   "id": "b3be9d88",
   "metadata": {},
   "source": [
    "Since we will produce similar plots in later examples, we write a\n",
    "simple generic function to produce this plot."
   ]
  },
  {
   "cell_type": "code",
   "execution_count": 30,
   "id": "4f9ccf9b",
   "metadata": {
    "lines_to_next_cell": 0
   },
   "outputs": [],
   "source": [
    "def summary_plot(results,\n",
    "                 ax,\n",
    "                 col='loss',\n",
    "                 valid_legend='Validation',\n",
    "                 training_legend='Training',\n",
    "                 ylabel='Loss',\n",
    "                 fontsize=20):\n",
    "    for (column,\n",
    "         color,\n",
    "         label) in zip([f'train_{col}_epoch',\n",
    "                        f'valid_{col}'],\n",
    "                       ['black',\n",
    "                        'red'],\n",
    "                       [training_legend,\n",
    "                        valid_legend]):\n",
    "        results.plot(x='epoch',\n",
    "                     y=column,\n",
    "                     label=label,\n",
    "                     marker='o',\n",
    "                     color=color,\n",
    "                     ax=ax)\n",
    "    ax.set_xlabel('Epoch')\n",
    "    ax.set_ylabel(ylabel)\n",
    "    return ax"
   ]
  },
  {
   "cell_type": "markdown",
   "id": "6b080cf1",
   "metadata": {},
   "source": [
    "We now set up our axes, and use our function to produce the MAE plot."
   ]
  },
  {
   "cell_type": "code",
   "execution_count": 31,
   "id": "3d77370a",
   "metadata": {
    "lines_to_next_cell": 2
   },
   "outputs": [
    {
     "data": {
      "image/png": "[encoded data removed]",
      "text/plain": [
       "<Figure size 600x600 with 1 Axes>"
      ]
     },
     "metadata": {},
     "output_type": "display_data"
    }
   ],
   "source": [
    "fig, ax = subplots(1, 1, figsize=(6, 6))\n",
    "ax = summary_plot(hit_results,\n",
    "                  ax,\n",
    "                  col='mae',\n",
    "                  ylabel='MAE',\n",
    "                  valid_legend='Validation (=Test)')\n",
    "\n",
    "ax.set_ylim([0, 400])\n",
    "ax.set_xticks(np.linspace(0, 50, 11).astype(int));"
   ]
  },
  {
   "cell_type": "markdown",
   "id": "ac0b2b37",
   "metadata": {},
   "source": [
    "We can predict directly from the final model, and\n",
    "evaluate its performance on the test data.\n",
    "Before fitting, we call the `eval()` method\n",
    "of `hit_model`.\n",
    "This tells\n",
    "`torch` to effectively consider this model to be fitted, so that\n",
    "we can use it to predict on new data. For our model here,\n",
    "the biggest change is that the dropout layers will\n",
    "be turned off, i.e. no weights will be randomly\n",
    "dropped in predicting on new data."
   ]
  },
  {
   "cell_type": "code",
   "execution_count": 32,
   "id": "e6a48733",
   "metadata": {
    "lines_to_next_cell": 0
   },
   "outputs": [
    {
     "name": "stdout",
     "output_type": "stream",
     "text": [
      "tensor(221.8315, grad_fn=<MeanBackward0>)\n",
      "tensor([ 572.2864,  248.9602,  555.2070,  370.6001,  258.7537,  628.7089,\n",
      "         386.0205,   97.6882,  779.5461,  391.5056,  267.1284, 1085.7915,\n",
      "         415.4734,  689.9186,  741.9968,  120.0893,  810.2211,  600.8563,\n",
      "        1560.9474,  384.0306,  223.3423,  258.3134,  477.4940,  269.3694,\n",
      "         451.2481,  377.0809,  919.7744,  692.0470,  764.0090,  450.2144,\n",
      "         779.9522,  378.6042,  417.3663,  349.7013,  664.0052,  353.2882,\n",
      "         797.9575,  568.2551,  223.8205,  588.7108,  243.6323,  306.3557,\n",
      "         592.0861,  785.9478,  409.1564,  633.2573,  174.6902,  197.8453,\n",
      "         620.6358,  209.7057,  173.0796,  272.2651,  512.1836,  786.6946,\n",
      "         281.2838,  586.3127,  738.5228,  302.8916,  310.1536,  408.5911,\n",
      "         857.4744,  198.5907,  417.7503,  363.7701,  659.0765,  610.7090,\n",
      "         495.6827,  511.3568,  324.0604,  326.0937,  341.6920,  196.4237,\n",
      "         260.3753,  311.6393,  191.3953,  441.7138,  715.7839,  245.2912,\n",
      "         369.1098,  564.9258, 1023.4142,  153.0074,  464.3114,  275.9583,\n",
      "         368.2798,  565.3496,  235.9973,  363.7183], grad_fn=<ViewBackward0>)\n",
      "tensor([ 500.0000,  700.0000,  700.0000,  210.0000,  105.0000,  165.0000,\n",
      "         475.0000,   68.0000,  750.0000,  200.0000,  120.0000, 1861.4600,\n",
      "         450.0000, 1350.0000, 1000.0000,   70.0000, 1008.3330,  750.0000,\n",
      "         920.0000,  160.0000,  185.0000,  215.0000,  535.0000,  175.0000,\n",
      "         120.0000,  165.0000, 1900.0000,  580.0000,  733.3330,  325.0000,\n",
      "        1000.0000,  400.0000,  612.5000,  300.0000, 1200.0000,  450.0000,\n",
      "         200.0000, 1940.0000,  150.0000,  900.0000,  100.0000,  175.0000,\n",
      "         925.0000,  825.0000,  750.0000, 1175.0000,   90.0000,   87.5000,\n",
      "         365.0000,  286.6670,   67.5000,  115.0000,  277.5000,  100.0000,\n",
      "         191.0000,  600.0000, 1300.0000,  245.0000,  305.0000,  250.0000,\n",
      "        1670.0000,  247.5000,  550.0000,  350.0000,  850.0000,  475.0000,\n",
      "         800.0000,  600.0000,  475.0000,  385.0000,  300.0000,  135.0000,\n",
      "         137.0000,  202.5000,  230.0000,  875.0000,  675.0000,  100.0000,\n",
      "         425.0000, 1220.0000,  750.0000,  110.0000,  100.0000,  172.0000,\n",
      "         550.0000,  775.0000,  275.0000,  250.0000])\n"
     ]
    }
   ],
   "source": [
    "hit_model.eval() \n",
    "preds = hit_module(X_test_t)\n",
    "print(torch.abs(Y_test_t - preds).mean())\n",
    "print(preds)\n",
    "print(Y_test_t)"
   ]
  },
  {
   "cell_type": "markdown",
   "id": "a24663bc",
   "metadata": {},
   "source": [
    "    "
   ]
  },
  {
   "cell_type": "markdown",
   "id": "b51594bb",
   "metadata": {},
   "source": [
    "### Cleanup\n",
    "In setting up our data module, we had initiated\n",
    "several worker processes that will remain running.\n",
    "We delete all references to the torch objects to ensure these processes\n",
    "will be killed.\n",
    " "
   ]
  },
  {
   "cell_type": "code",
   "execution_count": 33,
   "id": "78ca542d",
   "metadata": {
    "lines_to_next_cell": 2
   },
   "outputs": [],
   "source": [
    "del(Hitters,\n",
    "    hit_model, hit_dm,\n",
    "    hit_logger,\n",
    "    hit_test, hit_train,\n",
    "    X, Y,\n",
    "    X_test, X_train,\n",
    "    Y_test, Y_train,\n",
    "    X_test_t, Y_test_t,\n",
    "    hit_trainer, hit_module)\n"
   ]
  },
  {
   "cell_type": "markdown",
   "id": "42547131",
   "metadata": {},
   "source": [
    "## Multilayer Network on the MNIST Digit Data\n",
    "The `torchvision` package comes with a number of example datasets,\n",
    "including the `MNIST`  digit data. Our first step is to retrieve\n",
    "the training and test data sets; the `MNIST()` function within\n",
    "`torchvision.datasets` is provided for this purpose. The\n",
    "data will be downloaded the first time this function is executed, and stored in the directory `data/MNIST`."
   ]
  },
  {
   "cell_type": "code",
   "execution_count": 34,
   "id": "7a6d7416",
   "metadata": {},
   "outputs": [
    {
     "data": {
      "text/plain": [
       "Dataset MNIST\n",
       "    Number of datapoints: 60000\n",
       "    Root location: data\n",
       "    Split: Train\n",
       "    StandardTransform\n",
       "Transform: ToTensor()"
      ]
     },
     "execution_count": 34,
     "metadata": {},
     "output_type": "execute_result"
    }
   ],
   "source": [
    "(mnist_train, \n",
    " mnist_test) = [MNIST(root='data',\n",
    "                      train=train,\n",
    "                      download=True,\n",
    "                      transform=ToTensor())\n",
    "                for train in [True, False]]\n",
    "mnist_train\n"
   ]
  },
  {
   "cell_type": "markdown",
   "id": "23bf4a88",
   "metadata": {},
   "source": [
    "There are 60,000 images in the training data and 10,000 in the test\n",
    "data. The images are $28\\times 28$, and stored as a matrix of pixels. We\n",
    "need to transform each one into a vector.\n",
    "\n",
    "Neural networks are somewhat sensitive to the scale of the inputs, much as ridge and\n",
    "lasso regularization are affected by scaling.  Here the inputs are eight-bit\n",
    "grayscale values between 0 and 255, so we rescale to the unit\n",
    "interval. {Note: eight bits means $2^8$, which equals 256. Since the convention\n",
    "is to start at $0$, the possible values  range from $0$ to $255$.}\n",
    "This transformation, along with some reordering\n",
    "of the axes, is performed by the `ToTensor()` transform\n",
    "from the `torchvision.transforms` package.\n",
    "\n",
    "As in our `Hitters` example, we form a data module\n",
    "from the training and test datasets, setting aside 20%\n",
    "of the training images for validation."
   ]
  },
  {
   "cell_type": "code",
   "execution_count": 35,
   "id": "e6c5e82c",
   "metadata": {},
   "outputs": [],
   "source": [
    "mnist_dm = SimpleDataModule(mnist_train,\n",
    "                            mnist_test,\n",
    "                            validation=0.2,\n",
    "                            num_workers=max_num_workers,\n",
    "                            batch_size=256)\n"
   ]
  },
  {
   "cell_type": "markdown",
   "id": "73614d27",
   "metadata": {},
   "source": [
    "Let’s take a look at the data that will get fed into our network. We loop through the first few\n",
    "chunks of the test dataset, breaking after 2 batches:"
   ]
  },
  {
   "cell_type": "code",
   "execution_count": 36,
   "id": "6ecf940c",
   "metadata": {
    "lines_to_next_cell": 2
   },
   "outputs": [
    {
     "name": "stdout",
     "output_type": "stream",
     "text": [
      "X:  torch.Size([256, 1, 28, 28])\n",
      "Y:  torch.Size([256])\n",
      "X:  torch.Size([256, 1, 28, 28])\n",
      "Y:  torch.Size([256])\n"
     ]
    }
   ],
   "source": [
    "for idx, (X_ ,Y_) in enumerate(mnist_dm.train_dataloader()):\n",
    "    print('X: ', X_.shape)\n",
    "    print('Y: ', Y_.shape)\n",
    "    if idx >= 1:\n",
    "        break\n"
   ]
  },
  {
   "cell_type": "markdown",
   "id": "6e0b2d96",
   "metadata": {},
   "source": [
    "We see that the $X$ for each batch consists of 256 images of size `1x28x28`.\n",
    "Here the `1` indicates a single channel (greyscale). For RGB images such as `CIFAR100` below,\n",
    "we will see that the `1` in the size will be replaced by `3` for the three RGB channels.\n",
    "\n",
    "Now we are ready to specify our neural network."
   ]
  },
  {
   "cell_type": "code",
   "execution_count": 37,
   "id": "f4c49bab",
   "metadata": {},
   "outputs": [],
   "source": [
    "class MNISTModel(nn.Module):\n",
    "    def __init__(self):\n",
    "        super(MNISTModel, self).__init__()\n",
    "        self.layer1 = nn.Sequential(\n",
    "            nn.Flatten(),\n",
    "            nn.Linear(28*28, 256),\n",
    "            nn.ReLU(),\n",
    "            nn.Dropout(0.4))\n",
    "        self.layer2 = nn.Sequential(\n",
    "            nn.Linear(256, 128),\n",
    "            nn.ReLU(),\n",
    "            nn.Dropout(0.3))\n",
    "        self._forward = nn.Sequential(\n",
    "            self.layer1,\n",
    "            self.layer2,\n",
    "            nn.Linear(128, 10))\n",
    "    def forward(self, x):\n",
    "        return self._forward(x)"
   ]
  },
  {
   "cell_type": "markdown",
   "id": "7e25c568",
   "metadata": {},
   "source": [
    "We see that in the first layer, each `1x28x28` image is flattened, then mapped to\n",
    "256 dimensions where we apply a ReLU activation with 40% dropout.\n",
    "A second layer maps the first layer’s output down to\n",
    "128 dimensions, applying a ReLU activation with 30% dropout. Finally,\n",
    "the 128 dimensions are mapped down to 10, the number of classes in the\n",
    "`MNIST`  data."
   ]
  },
  {
   "cell_type": "code",
   "execution_count": 38,
   "id": "8dd2770f",
   "metadata": {},
   "outputs": [],
   "source": [
    "mnist_model = MNISTModel()\n"
   ]
  },
  {
   "cell_type": "markdown",
   "id": "3d0e8c1b",
   "metadata": {},
   "source": [
    "We can check that the model produces output of expected size based\n",
    "on our existing batch `X_` above."
   ]
  },
  {
   "cell_type": "code",
   "execution_count": 39,
   "id": "c916312b",
   "metadata": {},
   "outputs": [
    {
     "data": {
      "text/plain": [
       "torch.Size([256, 10])"
      ]
     },
     "execution_count": 39,
     "metadata": {},
     "output_type": "execute_result"
    }
   ],
   "source": [
    "mnist_model(X_).size()"
   ]
  },
  {
   "cell_type": "markdown",
   "id": "a3158809",
   "metadata": {},
   "source": [
    "Let’s take a look at the summary of the model. Instead of an `input_size` we can pass\n",
    "a tensor of correct shape. In this case, we pass through the final\n",
    "batched `X_` from above."
   ]
  },
  {
   "cell_type": "code",
   "execution_count": 40,
   "id": "54a6b6b2",
   "metadata": {},
   "outputs": [
    {
     "data": {
      "text/plain": [
       "===================================================================================================================\n",
       "Layer (type:depth-idx)                   Input Shape               Output Shape              Param #\n",
       "===================================================================================================================\n",
       "MNISTModel                               [256, 1, 28, 28]          [256, 10]                 --\n",
       "├─Sequential: 1-1                        [256, 1, 28, 28]          [256, 10]                 --\n",
       "│    └─Sequential: 2-1                   [256, 1, 28, 28]          [256, 256]                --\n",
       "│    │    └─Flatten: 3-1                 [256, 1, 28, 28]          [256, 784]                --\n",
       "│    │    └─Linear: 3-2                  [256, 784]                [256, 256]                200,960\n",
       "│    │    └─ReLU: 3-3                    [256, 256]                [256, 256]                --\n",
       "│    │    └─Dropout: 3-4                 [256, 256]                [256, 256]                --\n",
       "│    └─Sequential: 2-2                   [256, 256]                [256, 128]                --\n",
       "│    │    └─Linear: 3-5                  [256, 256]                [256, 128]                32,896\n",
       "│    │    └─ReLU: 3-6                    [256, 128]                [256, 128]                --\n",
       "│    │    └─Dropout: 3-7                 [256, 128]                [256, 128]                --\n",
       "│    └─Linear: 2-3                       [256, 128]                [256, 10]                 1,290\n",
       "===================================================================================================================\n",
       "Total params: 235,146\n",
       "Trainable params: 235,146\n",
       "Non-trainable params: 0\n",
       "Total mult-adds (M): 60.20\n",
       "===================================================================================================================\n",
       "Input size (MB): 0.80\n",
       "Forward/backward pass size (MB): 0.81\n",
       "Params size (MB): 0.94\n",
       "Estimated Total Size (MB): 2.55\n",
       "==================================================================================================================="
      ]
     },
     "execution_count": 40,
     "metadata": {},
     "output_type": "execute_result"
    }
   ],
   "source": [
    "summary(mnist_model,\n",
    "        input_data=X_,\n",
    "        col_names=['input_size',\n",
    "                   'output_size',\n",
    "                   'num_params'])"
   ]
  },
  {
   "cell_type": "markdown",
   "id": "e76a07df",
   "metadata": {},
   "source": [
    "Having set up both  the model and the data module, fitting this model is\n",
    "now almost identical to the `Hitters` example. In contrast to our regression model, here we will use the\n",
    "`SimpleModule.classification()` method which\n",
    "uses the  cross-entropy loss function instead of mean squared error. It must be supplied with the number of\n",
    "classes in the problem."
   ]
  },
  {
   "cell_type": "code",
   "execution_count": 41,
   "id": "c1fa96fd",
   "metadata": {},
   "outputs": [],
   "source": [
    "mnist_module = SimpleModule.classification(mnist_model,\n",
    "                                           num_classes=10)\n",
    "mnist_logger = CSVLogger('logs', name='MNIST')\n"
   ]
  },
  {
   "cell_type": "markdown",
   "id": "106c0f38",
   "metadata": {},
   "source": [
    "Now we are ready to go. The final step is to supply training data, and fit the model. We disable the progress bar below to avoid lengthy output in the browser when running."
   ]
  },
  {
   "cell_type": "code",
   "execution_count": 42,
   "id": "25515af7",
   "metadata": {
    "lines_to_next_cell": 0
   },
   "outputs": [
    {
     "name": "stderr",
     "output_type": "stream",
     "text": [
      "GPU available: True (mps), used: True\n",
      "TPU available: False, using: 0 TPU cores\n",
      "HPU available: False, using: 0 HPUs\n",
      "\n",
      "  | Name  | Type             | Params | Mode \n",
      "---------------------------------------------------\n",
      "0 | model | MNISTModel       | 235 K  | train\n",
      "1 | loss  | CrossEntropyLoss | 0      | train\n",
      "---------------------------------------------------\n",
      "235 K     Trainable params\n",
      "0         Non-trainable params\n",
      "235 K     Total params\n",
      "0.941     Total estimated model params size (MB)\n",
      "13        Modules in train mode\n",
      "0         Modules in eval mode\n",
      "`Trainer.fit` stopped: `max_epochs=30` reached.\n"
     ]
    }
   ],
   "source": [
    "mnist_trainer = Trainer(deterministic=True,\n",
    "                        max_epochs=30,\n",
    "                        logger=mnist_logger,\n",
    "                        enable_progress_bar=False,\n",
    "                        callbacks=[ErrorTracker()])\n",
    "mnist_trainer.fit(mnist_module,\n",
    "                  datamodule=mnist_dm)\n"
   ]
  },
  {
   "cell_type": "markdown",
   "id": "0e12d8c7",
   "metadata": {},
   "source": [
    "We have suppressed the output here, which is a progress report on the\n",
    "fitting of the model, grouped by epoch. This is very useful, since on\n",
    "large datasets fitting can take time. Fitting this model took 245\n",
    "seconds on a MacBook Pro with an Apple M1 Pro chip with 10 cores and 16 GB of RAM.\n",
    "Here we specified a\n",
    "validation split of 20%, so training is actually performed on\n",
    "80% of the 60,000 observations in the training set. This is an\n",
    "alternative to actually supplying validation data, like we did for the `Hitters` data.\n",
    "SGD  uses batches\n",
    "of 256 observations in computing the gradient, and doing the\n",
    "arithmetic, we see that an epoch corresponds to 188 gradient steps."
   ]
  },
  {
   "cell_type": "markdown",
   "id": "eb25107e",
   "metadata": {},
   "source": [
    "`SimpleModule.classification()` includes\n",
    "an accuracy metric by default. Other\n",
    "classification metrics can be added from `torchmetrics`.\n",
    "We will use  our `summary_plot()` function to display \n",
    "accuracy across epochs."
   ]
  },
  {
   "cell_type": "code",
   "execution_count": 43,
   "id": "872fed35",
   "metadata": {
    "lines_to_next_cell": 0
   },
   "outputs": [
    {
     "data": {
      "image/png": "[encoded data removed]",
      "text/plain": [
       "<Figure size 600x600 with 1 Axes>"
      ]
     },
     "metadata": {},
     "output_type": "display_data"
    }
   ],
   "source": [
    "mnist_results = pd.read_csv(mnist_logger.experiment.metrics_file_path)\n",
    "fig, ax = subplots(1, 1, figsize=(6, 6))\n",
    "summary_plot(mnist_results,\n",
    "             ax,\n",
    "             col='accuracy',\n",
    "             ylabel='Accuracy')\n",
    "ax.set_ylim([0.5, 1])\n",
    "ax.set_ylabel('Accuracy')\n",
    "ax.set_xticks(np.linspace(0, 30, 7).astype(int));\n"
   ]
  },
  {
   "cell_type": "markdown",
   "id": "5e1c8d5c",
   "metadata": {},
   "source": [
    "Once again we evaluate the accuracy using the `test()` method of our trainer. This model achieves\n",
    "97% accuracy on the test data."
   ]
  },
  {
   "cell_type": "code",
   "execution_count": 44,
   "id": "4551c956",
   "metadata": {},
   "outputs": [
    {
     "name": "stdout",
     "output_type": "stream",
     "text": [
      "────────────────────────────────────────────────────────────────────────────────────────────────────────────────────────\n",
      "       Test metric             DataLoader 0\n",
      "────────────────────────────────────────────────────────────────────────────────────────────────────────────────────────\n",
      "      test_accuracy         0.9620000123977661\n",
      "        test_loss           0.15120187401771545\n",
      "────────────────────────────────────────────────────────────────────────────────────────────────────────────────────────\n"
     ]
    },
    {
     "data": {
      "text/plain": [
       "[{'test_loss': 0.15120187401771545, 'test_accuracy': 0.9620000123977661}]"
      ]
     },
     "execution_count": 44,
     "metadata": {},
     "output_type": "execute_result"
    }
   ],
   "source": [
    "mnist_trainer.test(mnist_module,\n",
    "                   datamodule=mnist_dm)"
   ]
  },
  {
   "cell_type": "markdown",
   "id": "1b0c0bd0",
   "metadata": {},
   "source": [
    "Table~\\ref{Ch13:tab:mnist} also reports the error rates resulting from LDA (Chapter~\\ref{Ch4:classification}) and multiclass logistic\n",
    "regression. For LDA we refer the reader to Section~\\ref{Ch4-classification-lab:linear-discriminant-analysis}.\n",
    "Although we could use the `sklearn` function `LogisticRegression()` to fit  \n",
    "multiclass logistic regression, we are set up here to fit such a model\n",
    "with `torch`.\n",
    "We just have an input layer and an output layer, and omit the hidden layers!"
   ]
  },
  {
   "cell_type": "code",
   "execution_count": 45,
   "id": "cbf4d0d2",
   "metadata": {},
   "outputs": [],
   "source": [
    "class MNIST_MLR(nn.Module):\n",
    "    def __init__(self):\n",
    "        super(MNIST_MLR, self).__init__()\n",
    "        self.linear = nn.Sequential(nn.Flatten(),\n",
    "                                    nn.Linear(784, 10))\n",
    "    def forward(self, x):\n",
    "        return self.linear(x)\n",
    "\n",
    "mlr_model = MNIST_MLR()\n",
    "mlr_module = SimpleModule.classification(mlr_model,\n",
    "                                         num_classes=10)\n",
    "mlr_logger = CSVLogger('logs', name='MNIST_MLR')"
   ]
  },
  {
   "cell_type": "code",
   "execution_count": 46,
   "id": "6ff23014",
   "metadata": {
    "lines_to_next_cell": 0
   },
   "outputs": [
    {
     "name": "stderr",
     "output_type": "stream",
     "text": [
      "GPU available: True (mps), used: True\n",
      "TPU available: False, using: 0 TPU cores\n",
      "HPU available: False, using: 0 HPUs\n",
      "/Users/qiuyang/anaconda3/envs/islp/lib/python3.10/site-packages/pytorch_lightning/trainer/connectors/logger_connector/logger_connector.py:75: Starting from v1.9.0, `tensorboardX` has been removed as a dependency of the `pytorch_lightning` package, due to potential conflicts with other packages in the ML ecosystem. For this reason, `logger=True` will use `CSVLogger` as the default logger, unless the `tensorboard` or `tensorboardX` packages are found. Please `pip install lightning[extra]` or one of them to enable TensorBoard support by default\n",
      "\n",
      "  | Name  | Type             | Params | Mode \n",
      "---------------------------------------------------\n",
      "0 | model | MNIST_MLR        | 7.9 K  | train\n",
      "1 | loss  | CrossEntropyLoss | 0      | train\n",
      "---------------------------------------------------\n",
      "7.9 K     Trainable params\n",
      "0         Non-trainable params\n",
      "7.9 K     Total params\n",
      "0.031     Total estimated model params size (MB)\n",
      "5         Modules in train mode\n",
      "0         Modules in eval mode\n",
      "`Trainer.fit` stopped: `max_epochs=30` reached.\n"
     ]
    }
   ],
   "source": [
    "mlr_trainer = Trainer(deterministic=True,\n",
    "                      max_epochs=30,\n",
    "                      enable_progress_bar=False,\n",
    "                      callbacks=[ErrorTracker()])\n",
    "mlr_trainer.fit(mlr_module, datamodule=mnist_dm)"
   ]
  },
  {
   "cell_type": "markdown",
   "id": "f8368ac1",
   "metadata": {},
   "source": [
    "We fit the model just as before and compute the test results."
   ]
  },
  {
   "cell_type": "code",
   "execution_count": 47,
   "id": "ca159ef2",
   "metadata": {
    "lines_to_next_cell": 0
   },
   "outputs": [
    {
     "name": "stdout",
     "output_type": "stream",
     "text": [
      "────────────────────────────────────────────────────────────────────────────────────────────────────────────────────────\n",
      "       Test metric             DataLoader 0\n",
      "────────────────────────────────────────────────────────────────────────────────────────────────────────────────────────\n",
      "      test_accuracy          0.916100025177002\n",
      "        test_loss           0.3469300866127014\n",
      "────────────────────────────────────────────────────────────────────────────────────────────────────────────────────────\n"
     ]
    },
    {
     "data": {
      "text/plain": [
       "[{'test_loss': 0.3469300866127014, 'test_accuracy': 0.916100025177002}]"
      ]
     },
     "execution_count": 47,
     "metadata": {},
     "output_type": "execute_result"
    }
   ],
   "source": [
    "mlr_trainer.test(mlr_module,\n",
    "                 datamodule=mnist_dm)"
   ]
  },
  {
   "cell_type": "markdown",
   "id": "2be94ca6",
   "metadata": {},
   "source": [
    "The accuracy is above 90% even for this pretty simple model.\n",
    "\n",
    "As in the `Hitters` example, we delete some of\n",
    "the objects we created above."
   ]
  },
  {
   "cell_type": "code",
   "execution_count": 48,
   "id": "5842c930",
   "metadata": {
    "lines_to_next_cell": 2
   },
   "outputs": [],
   "source": [
    "del(mnist_test,\n",
    "    mnist_train,\n",
    "    mnist_model,\n",
    "    mnist_dm,\n",
    "    mnist_trainer,\n",
    "    mnist_module,\n",
    "    mnist_results,\n",
    "    mlr_model,\n",
    "    mlr_module,\n",
    "    mlr_trainer)"
   ]
  },
  {
   "cell_type": "markdown",
   "id": "cd9e98b5",
   "metadata": {},
   "source": [
    "## Convolutional Neural Networks\n",
    "In this section we fit a CNN to the `CIFAR100` data, which is available in the `torchvision`\n",
    "package. It is arranged in a similar fashion as the `MNIST` data."
   ]
  },
  {
   "cell_type": "code",
   "execution_count": 49,
   "id": "cb406355",
   "metadata": {},
   "outputs": [
    {
     "name": "stdout",
     "output_type": "stream",
     "text": [
      "Files already downloaded and verified\n",
      "Files already downloaded and verified\n"
     ]
    }
   ],
   "source": [
    "(cifar_train, \n",
    " cifar_test) = [CIFAR100(root=\"data\",\n",
    "                         train=train,\n",
    "                         download=True)\n",
    "             for train in [True, False]]"
   ]
  },
  {
   "cell_type": "code",
   "execution_count": 50,
   "id": "8dcd79cc",
   "metadata": {},
   "outputs": [],
   "source": [
    "transform = ToTensor()\n",
    "cifar_train_X = torch.stack([transform(x) for x in\n",
    "                            cifar_train.data])\n",
    "cifar_test_X = torch.stack([transform(x) for x in\n",
    "                            cifar_test.data])\n",
    "cifar_train = TensorDataset(cifar_train_X,\n",
    "                            torch.tensor(cifar_train.targets))\n",
    "cifar_test = TensorDataset(cifar_test_X,\n",
    "                            torch.tensor(cifar_test.targets))"
   ]
  },
  {
   "cell_type": "markdown",
   "id": "81f4ea20",
   "metadata": {},
   "source": [
    "The `CIFAR100` dataset consists of 50,000 training images, each represented by a three-dimensional tensor:\n",
    "each three-color image is represented as a set of three channels, each of which consists of\n",
    "$32\\times 32$ eight-bit pixels. We standardize as we did for the\n",
    "digits, but keep the array structure. This is accomplished with the `ToTensor()` transform.\n",
    "\n",
    "Creating the data module is similar to the `MNIST`  example."
   ]
  },
  {
   "cell_type": "code",
   "execution_count": 51,
   "id": "6980303a",
   "metadata": {
    "lines_to_next_cell": 0
   },
   "outputs": [],
   "source": [
    "cifar_dm = SimpleDataModule(cifar_train,\n",
    "                            cifar_test,\n",
    "                            validation=0.2,\n",
    "                            num_workers=max_num_workers,\n",
    "                            batch_size=128)\n"
   ]
  },
  {
   "cell_type": "markdown",
   "id": "6b9e007c",
   "metadata": {},
   "source": [
    "We again look at the shape of typical batches in our data loaders."
   ]
  },
  {
   "cell_type": "code",
   "execution_count": 52,
   "id": "401888c7",
   "metadata": {
    "lines_to_next_cell": 2
   },
   "outputs": [
    {
     "name": "stdout",
     "output_type": "stream",
     "text": [
      "X:  torch.Size([128, 3, 32, 32])\n",
      "Y:  torch.Size([128])\n",
      "X:  torch.Size([128, 3, 32, 32])\n",
      "Y:  torch.Size([128])\n"
     ]
    }
   ],
   "source": [
    "for idx, (X_ ,Y_) in enumerate(cifar_dm.train_dataloader()):\n",
    "    print('X: ', X_.shape)\n",
    "    print('Y: ', Y_.shape)\n",
    "    if idx >= 1:\n",
    "        break\n"
   ]
  },
  {
   "cell_type": "markdown",
   "id": "82438c30",
   "metadata": {},
   "source": [
    "Before we start, we look at some of the training images; similar code produced\n",
    "Figure~\\ref{Ch13:fig:cifar100} on page \\pageref{Ch13:fig:cifar100}. The example below also illustrates\n",
    "that `TensorDataset` objects can be indexed with integers --- we are choosing\n",
    "random images from the training data by indexing `cifar_train`. In order to display correctly,\n",
    "we must reorder the dimensions by a call to `np.transpose()`."
   ]
  },
  {
   "cell_type": "code",
   "execution_count": 53,
   "id": "56090846",
   "metadata": {
    "lines_to_next_cell": 0
   },
   "outputs": [
    {
     "data": {
      "image/png": "[encoded data removed]",
      "text/plain": [
       "<Figure size 1000x1000 with 25 Axes>"
      ]
     },
     "metadata": {},
     "output_type": "display_data"
    }
   ],
   "source": [
    "fig, axes = subplots(5, 5, figsize=(10,10))\n",
    "rng = np.random.default_rng(4)\n",
    "indices = rng.choice(np.arange(len(cifar_train)), 25,\n",
    "                     replace=False).reshape((5,5))\n",
    "for i in range(5):\n",
    "    for j in range(5):\n",
    "        idx = indices[i,j]\n",
    "        axes[i,j].imshow(np.transpose(cifar_train[idx][0],\n",
    "                                      [1,2,0]),\n",
    "                                      interpolation=None)\n",
    "        axes[i,j].set_xticks([])\n",
    "        axes[i,j].set_yticks([])\n"
   ]
  },
  {
   "cell_type": "markdown",
   "id": "333dca34",
   "metadata": {},
   "source": [
    "Here the `imshow()` method recognizes from the shape of its argument that it is a 3-dimensional array, with the last dimension indexing the three RGB color channels.\n",
    "\n",
    "We specify a moderately-sized  CNN for\n",
    "demonstration purposes, similar in structure to Figure~\\ref{Ch13:fig:DeepCNN}.\n",
    "We use several layers, each consisting of  convolution, ReLU, and max-pooling steps.\n",
    "We first define a module that defines one of these layers. As in our\n",
    "previous examples, we overwrite the `__init__()` and `forward()` methods\n",
    "of `nn.Module`. This user-defined  module can now be used in ways just like\n",
    "`nn.Linear()` or `nn.Dropout()`."
   ]
  },
  {
   "cell_type": "code",
   "execution_count": 54,
   "id": "8c0567d9",
   "metadata": {},
   "outputs": [],
   "source": [
    "class BuildingBlock(nn.Module):\n",
    "\n",
    "    def __init__(self,\n",
    "                 in_channels,\n",
    "                 out_channels):\n",
    "\n",
    "        super(BuildingBlock, self).__init__()\n",
    "        self.conv = nn.Conv2d(in_channels=in_channels,\n",
    "                              out_channels=out_channels,\n",
    "                              kernel_size=(3,3),\n",
    "                              padding='same')\n",
    "        self.activation = nn.ReLU()\n",
    "        self.pool = nn.MaxPool2d(kernel_size=(2,2))\n",
    "\n",
    "    def forward(self, x):\n",
    "        return self.pool(self.activation(self.conv(x)))\n"
   ]
  },
  {
   "cell_type": "markdown",
   "id": "25956312",
   "metadata": {},
   "source": [
    "Notice that we used the `padding = \"same\"` argument to\n",
    "`nn.Conv2d()`, which ensures that the output channels have the\n",
    "same dimension as the input channels. There are 32 channels in the first\n",
    "hidden layer, in contrast to the three channels in the input layer. We\n",
    "use a $3\\times 3$ convolution filter for each channel in all the layers. Each\n",
    "convolution is followed by a max-pooling layer over $2\\times2$\n",
    "blocks.\n",
    "\n",
    "In forming our deep learning model for the `CIFAR100` data, we use several of our `BuildingBlock()`\n",
    "modules sequentially. This simple example\n",
    "illustrates some of the power of `torch`. Users can\n",
    "define modules of their own, which can be combined in other\n",
    "modules. Ultimately, everything is fit by a generic trainer."
   ]
  },
  {
   "cell_type": "code",
   "execution_count": 55,
   "id": "e4d3eb9a",
   "metadata": {},
   "outputs": [],
   "source": [
    "class CIFARModel(nn.Module):\n",
    "\n",
    "    def __init__(self):\n",
    "        super(CIFARModel, self).__init__()\n",
    "        sizes = [(3,32),\n",
    "                 (32,64),\n",
    "                 (64,128),\n",
    "                 (128,256)]\n",
    "        self.conv = nn.Sequential(*[BuildingBlock(in_, out_)\n",
    "                                    for in_, out_ in sizes])\n",
    "\n",
    "        self.output = nn.Sequential(nn.Dropout(0.5),\n",
    "                                    nn.Linear(2*2*256, 512),\n",
    "                                    nn.ReLU(),\n",
    "                                    nn.Linear(512, 100))\n",
    "    def forward(self, x):\n",
    "        val = self.conv(x)\n",
    "        val = torch.flatten(val, start_dim=1)\n",
    "        return self.output(val)\n"
   ]
  },
  {
   "cell_type": "markdown",
   "id": "2cf81883",
   "metadata": {},
   "source": [
    "We  build the model and look at the summary. (We had created examples of `X_` earlier.)"
   ]
  },
  {
   "cell_type": "code",
   "execution_count": 56,
   "id": "5ff4e0a5",
   "metadata": {
    "lines_to_next_cell": 2
   },
   "outputs": [
    {
     "data": {
      "text/plain": [
       "===================================================================================================================\n",
       "Layer (type:depth-idx)                   Input Shape               Output Shape              Param #\n",
       "===================================================================================================================\n",
       "CIFARModel                               [128, 3, 32, 32]          [128, 100]                --\n",
       "├─Sequential: 1-1                        [128, 3, 32, 32]          [128, 256, 2, 2]          --\n",
       "│    └─BuildingBlock: 2-1                [128, 3, 32, 32]          [128, 32, 16, 16]         --\n",
       "│    │    └─Conv2d: 3-1                  [128, 3, 32, 32]          [128, 32, 32, 32]         896\n",
       "│    │    └─ReLU: 3-2                    [128, 32, 32, 32]         [128, 32, 32, 32]         --\n",
       "│    │    └─MaxPool2d: 3-3               [128, 32, 32, 32]         [128, 32, 16, 16]         --\n",
       "│    └─BuildingBlock: 2-2                [128, 32, 16, 16]         [128, 64, 8, 8]           --\n",
       "│    │    └─Conv2d: 3-4                  [128, 32, 16, 16]         [128, 64, 16, 16]         18,496\n",
       "│    │    └─ReLU: 3-5                    [128, 64, 16, 16]         [128, 64, 16, 16]         --\n",
       "│    │    └─MaxPool2d: 3-6               [128, 64, 16, 16]         [128, 64, 8, 8]           --\n",
       "│    └─BuildingBlock: 2-3                [128, 64, 8, 8]           [128, 128, 4, 4]          --\n",
       "│    │    └─Conv2d: 3-7                  [128, 64, 8, 8]           [128, 128, 8, 8]          73,856\n",
       "│    │    └─ReLU: 3-8                    [128, 128, 8, 8]          [128, 128, 8, 8]          --\n",
       "│    │    └─MaxPool2d: 3-9               [128, 128, 8, 8]          [128, 128, 4, 4]          --\n",
       "│    └─BuildingBlock: 2-4                [128, 128, 4, 4]          [128, 256, 2, 2]          --\n",
       "│    │    └─Conv2d: 3-10                 [128, 128, 4, 4]          [128, 256, 4, 4]          295,168\n",
       "│    │    └─ReLU: 3-11                   [128, 256, 4, 4]          [128, 256, 4, 4]          --\n",
       "│    │    └─MaxPool2d: 3-12              [128, 256, 4, 4]          [128, 256, 2, 2]          --\n",
       "├─Sequential: 1-2                        [128, 1024]               [128, 100]                --\n",
       "│    └─Dropout: 2-5                      [128, 1024]               [128, 1024]               --\n",
       "│    └─Linear: 2-6                       [128, 1024]               [128, 512]                524,800\n",
       "│    └─ReLU: 2-7                         [128, 512]                [128, 512]                --\n",
       "│    └─Linear: 2-8                       [128, 512]                [128, 100]                51,300\n",
       "===================================================================================================================\n",
       "Total params: 964,516\n",
       "Trainable params: 964,516\n",
       "Non-trainable params: 0\n",
       "Total mult-adds (G): 2.01\n",
       "===================================================================================================================\n",
       "Input size (MB): 1.57\n",
       "Forward/backward pass size (MB): 63.54\n",
       "Params size (MB): 3.86\n",
       "Estimated Total Size (MB): 68.97\n",
       "==================================================================================================================="
      ]
     },
     "execution_count": 56,
     "metadata": {},
     "output_type": "execute_result"
    }
   ],
   "source": [
    "cifar_model = CIFARModel()\n",
    "summary(cifar_model,\n",
    "        input_data=X_,\n",
    "        col_names=['input_size',\n",
    "                   'output_size',\n",
    "                   'num_params'])"
   ]
  },
  {
   "cell_type": "markdown",
   "id": "2125ae4a",
   "metadata": {},
   "source": [
    "The total number of trainable parameters is 964,516.\n",
    "By studying the size of the parameters, we can see that the channels halve in both\n",
    "dimensions\n",
    "after each of these max-pooling operations. After the last of these we\n",
    "have a layer with  256 channels of dimension $2\\times 2$. These are then\n",
    "flattened to a dense layer of size 1,024;\n",
    "in other words, each of the $2\\times 2$ matrices is turned into a\n",
    "$4$-vector, and put side-by-side in one layer. This is followed by a\n",
    "dropout regularization layer,  then\n",
    "another dense layer of size 512, and finally, the\n",
    "output layer.\n",
    "\n",
    "Up to now, we have been using a default\n",
    "optimizer in `SimpleModule()`. For these data,\n",
    "experiments show that a smaller learning rate performs\n",
    "better than the default 0.01. We use a\n",
    "custom optimizer here with a learning rate of 0.001.\n",
    "Besides this, the logging and training\n",
    "follow a similar pattern to our previous examples. The optimizer\n",
    "takes an argument `params` that informs\n",
    "the optimizer which parameters are involved in SGD (stochastic gradient descent).\n",
    "\n",
    "We saw earlier that entries of a module’s parameters are tensors. In passing\n",
    "the parameters to the optimizer we are doing more than\n",
    "simply passing arrays; part of the structure of the graph\n",
    "is encoded in the tensors themselves."
   ]
  },
  {
   "cell_type": "code",
   "execution_count": 57,
   "id": "ab9d9080",
   "metadata": {},
   "outputs": [],
   "source": [
    "cifar_optimizer = RMSprop(cifar_model.parameters(), lr=0.001)\n",
    "cifar_module = SimpleModule.classification(cifar_model,\n",
    "                                    num_classes=100,\n",
    "                                    optimizer=cifar_optimizer)\n",
    "cifar_logger = CSVLogger('logs', name='CIFAR100')\n"
   ]
  },
  {
   "cell_type": "code",
   "execution_count": 58,
   "id": "5a86b37d",
   "metadata": {},
   "outputs": [
    {
     "name": "stderr",
     "output_type": "stream",
     "text": [
      "GPU available: True (mps), used: True\n",
      "TPU available: False, using: 0 TPU cores\n",
      "HPU available: False, using: 0 HPUs\n",
      "\n",
      "  | Name  | Type             | Params | Mode \n",
      "---------------------------------------------------\n",
      "0 | model | CIFARModel       | 964 K  | train\n",
      "1 | loss  | CrossEntropyLoss | 0      | train\n",
      "---------------------------------------------------\n",
      "964 K     Trainable params\n",
      "0         Non-trainable params\n",
      "964 K     Total params\n",
      "3.858     Total estimated model params size (MB)\n",
      "24        Modules in train mode\n",
      "0         Modules in eval mode\n",
      "`Trainer.fit` stopped: `max_epochs=30` reached.\n"
     ]
    }
   ],
   "source": [
    "cifar_trainer = Trainer(deterministic=True,\n",
    "                        max_epochs=30,\n",
    "                        logger=cifar_logger,\n",
    "                        enable_progress_bar=False,\n",
    "                        callbacks=[ErrorTracker()])\n",
    "cifar_trainer.fit(cifar_module,\n",
    "                  datamodule=cifar_dm)\n"
   ]
  },
  {
   "cell_type": "markdown",
   "id": "00c6668f",
   "metadata": {},
   "source": [
    "This model can take 10 minutes or more to run and achieves about 42% accuracy on the test\n",
    "data. Although this is not terrible for 100-class data (a random\n",
    "classifier gets 1% accuracy), searching the web we see results around\n",
    "75%. Typically it takes a lot of architecture carpentry,\n",
    "fiddling with regularization, and time, to achieve such results.\n",
    "\n",
    "Let’s take a look at the validation and training accuracy\n",
    "across epochs."
   ]
  },
  {
   "cell_type": "code",
   "execution_count": 59,
   "id": "9cf596b4",
   "metadata": {
    "lines_to_next_cell": 0
   },
   "outputs": [
    {
     "data": {
      "image/png": "[encoded data removed]",
      "text/plain": [
       "<Figure size 600x600 with 1 Axes>"
      ]
     },
     "metadata": {},
     "output_type": "display_data"
    }
   ],
   "source": [
    "log_path = cifar_logger.experiment.metrics_file_path\n",
    "cifar_results = pd.read_csv(log_path)\n",
    "fig, ax = subplots(1, 1, figsize=(6, 6))\n",
    "summary_plot(cifar_results,\n",
    "             ax,\n",
    "             col='accuracy',\n",
    "             ylabel='Accuracy')\n",
    "ax.set_xticks(np.linspace(0, 10, 6).astype(int))\n",
    "ax.set_ylabel('Accuracy')\n",
    "ax.set_ylim([0, 1]);"
   ]
  },
  {
   "cell_type": "markdown",
   "id": "c3e4a8bb",
   "metadata": {},
   "source": [
    "Finally, we evaluate our model on our test data."
   ]
  },
  {
   "cell_type": "code",
   "execution_count": 60,
   "id": "0f5ad9bb",
   "metadata": {
    "lines_to_next_cell": 2
   },
   "outputs": [
    {
     "name": "stdout",
     "output_type": "stream",
     "text": [
      "────────────────────────────────────────────────────────────────────────────────────────────────────────────────────────\n",
      "       Test metric             DataLoader 0\n",
      "────────────────────────────────────────────────────────────────────────────────────────────────────────────────────────\n",
      "      test_accuracy         0.43309998512268066\n",
      "        test_loss           2.3775386810302734\n",
      "────────────────────────────────────────────────────────────────────────────────────────────────────────────────────────\n"
     ]
    },
    {
     "data": {
      "text/plain": [
       "[{'test_loss': 2.3775386810302734, 'test_accuracy': 0.43309998512268066}]"
      ]
     },
     "execution_count": 60,
     "metadata": {},
     "output_type": "execute_result"
    }
   ],
   "source": [
    "cifar_trainer.test(cifar_module,\n",
    "                   datamodule=cifar_dm)\n"
   ]
  },
  {
   "cell_type": "markdown",
   "id": "ed52c614",
   "metadata": {},
   "source": [
    "### Hardware Acceleration\n",
    "As deep learning has become ubiquitous in machine learning, hardware\n",
    "manufacturers have produced special libraries that can\n",
    "often speed up the gradient-descent steps.\n",
    "\n",
    "For instance, Mac OS devices with the M1 chip may have the *Metal* programming framework\n",
    "enabled, which can speed up the  `torch` \n",
    "computations. We present an example of how to use this acceleration.\n",
    "\n",
    "The main changes are to the `Trainer()` call as well as to the metrics\n",
    "that will be evaluated on the data. These metrics must be told  where\n",
    "the data will be located at evaluation time. This is\n",
    "accomplished with a call to the `to()` method of the metrics."
   ]
  },
  {
   "cell_type": "code",
   "execution_count": 61,
   "id": "e763b4c4",
   "metadata": {
    "lines_to_next_cell": 0
   },
   "outputs": [
    {
     "name": "stderr",
     "output_type": "stream",
     "text": [
      "GPU available: True (mps), used: True\n",
      "TPU available: False, using: 0 TPU cores\n",
      "HPU available: False, using: 0 HPUs\n",
      "\n",
      "  | Name  | Type             | Params | Mode \n",
      "---------------------------------------------------\n",
      "0 | model | CIFARModel       | 964 K  | train\n",
      "1 | loss  | CrossEntropyLoss | 0      | train\n",
      "---------------------------------------------------\n",
      "964 K     Trainable params\n",
      "0         Non-trainable params\n",
      "964 K     Total params\n",
      "3.858     Total estimated model params size (MB)\n",
      "24        Modules in train mode\n",
      "0         Modules in eval mode\n",
      "`Trainer.fit` stopped: `max_epochs=30` reached.\n"
     ]
    }
   ],
   "source": [
    "try:\n",
    "    for name, metric in cifar_module.metrics.items():\n",
    "        cifar_module.metrics[name] = metric.to('mps')\n",
    "    cifar_trainer_mps = Trainer(accelerator='mps',\n",
    "                                deterministic=True,\n",
    "                                enable_progress_bar=False,\n",
    "                                max_epochs=30)\n",
    "    cifar_trainer_mps.fit(cifar_module,\n",
    "                          datamodule=cifar_dm)\n",
    "    cifar_trainer_mps.test(cifar_module,\n",
    "                          datamodule=cifar_dm)\n",
    "except:\n",
    "    pass"
   ]
  },
  {
   "cell_type": "markdown",
   "id": "14791a8f",
   "metadata": {},
   "source": [
    "This yields approximately two- or three-fold  acceleration for each epoch.\n",
    "We have protected this code block using `try:` and `except:`\n",
    "clauses; if it works, we get the speedup, if it fails, nothing happens."
   ]
  },
  {
   "cell_type": "markdown",
   "id": "1801b099-57b2-49f1-aa1e-7a6ce4266240",
   "metadata": {},
   "source": [
    "## Using Pretrained CNN Models\n",
    "We now show how to use a CNN pretrained on the  `imagenet` database to classify natural\n",
    "images, and demonstrate how we produced Figure~\\ref{Ch13:fig:homeimages}.\n",
    "We copied six JPEG images from a digital photo album into the\n",
    "directory `book_images`. These images are available\n",
    "from the data section of  <www.statlearning.com>, the ISLP book website. Download `book_images.zip`; when\n",
    "clicked it creates the `book_images` directory. \n",
    "\n",
    "The pretrained network we use is called `resnet50`; specification details can be found on the web.\n",
    "We will read in the images, and\n",
    "convert them into the array format expected by the `torch`\n",
    "software to match the specifications in `resnet50`. \n",
    "The conversion involves a resize, a crop and then a predefined standardization for each of the three channels.\n",
    "We now read in the images and preprocess them."
   ]
  },
  {
   "cell_type": "code",
   "execution_count": 62,
   "id": "8ddd3831",
   "metadata": {
    "lines_to_next_cell": 2
   },
   "outputs": [
    {
     "data": {
      "text/plain": [
       "torch.Size([5, 3, 224, 224])"
      ]
     },
     "execution_count": 62,
     "metadata": {},
     "output_type": "execute_result"
    }
   ],
   "source": [
    "resize = Resize((232,232), antialias=True)\n",
    "crop = CenterCrop(224)\n",
    "normalize = Normalize([0.485,0.456,0.406],\n",
    "                      [0.229,0.224,0.225])\n",
    "imgfiles = sorted([f for f in glob('book_images/*')])\n",
    "imgs = torch.stack([torch.div(crop(resize(read_image(f))), 255)\n",
    "                    for f in imgfiles])\n",
    "imgs = normalize(imgs)\n",
    "imgs.size()"
   ]
  },
  {
   "cell_type": "markdown",
   "id": "a735ef73",
   "metadata": {},
   "source": [
    "We now set up the trained network with the weights we read in code block~6. The model has 50 layers, with a fair bit of complexity."
   ]
  },
  {
   "cell_type": "code",
   "execution_count": 63,
   "id": "1126ee25",
   "metadata": {
    "lines_to_next_cell": 0,
    "scrolled": true
   },
   "outputs": [
    {
     "data": {
      "text/plain": [
       "===================================================================================================================\n",
       "Layer (type:depth-idx)                   Input Shape               Output Shape              Param #\n",
       "===================================================================================================================\n",
       "ResNet                                   [5, 3, 224, 224]          [5, 1000]                 --\n",
       "├─Conv2d: 1-1                            [5, 3, 224, 224]          [5, 64, 112, 112]         9,408\n",
       "├─BatchNorm2d: 1-2                       [5, 64, 112, 112]         [5, 64, 112, 112]         128\n",
       "├─ReLU: 1-3                              [5, 64, 112, 112]         [5, 64, 112, 112]         --\n",
       "├─MaxPool2d: 1-4                         [5, 64, 112, 112]         [5, 64, 56, 56]           --\n",
       "├─Sequential: 1-5                        [5, 64, 56, 56]           [5, 256, 56, 56]          --\n",
       "│    └─Bottleneck: 2-1                   [5, 64, 56, 56]           [5, 256, 56, 56]          --\n",
       "│    │    └─Conv2d: 3-1                  [5, 64, 56, 56]           [5, 64, 56, 56]           4,096\n",
       "│    │    └─BatchNorm2d: 3-2             [5, 64, 56, 56]           [5, 64, 56, 56]           128\n",
       "│    │    └─ReLU: 3-3                    [5, 64, 56, 56]           [5, 64, 56, 56]           --\n",
       "│    │    └─Conv2d: 3-4                  [5, 64, 56, 56]           [5, 64, 56, 56]           36,864\n",
       "│    │    └─BatchNorm2d: 3-5             [5, 64, 56, 56]           [5, 64, 56, 56]           128\n",
       "│    │    └─ReLU: 3-6                    [5, 64, 56, 56]           [5, 64, 56, 56]           --\n",
       "│    │    └─Conv2d: 3-7                  [5, 64, 56, 56]           [5, 256, 56, 56]          16,384\n",
       "│    │    └─BatchNorm2d: 3-8             [5, 256, 56, 56]          [5, 256, 56, 56]          512\n",
       "│    │    └─Sequential: 3-9              [5, 64, 56, 56]           [5, 256, 56, 56]          16,896\n",
       "│    │    └─ReLU: 3-10                   [5, 256, 56, 56]          [5, 256, 56, 56]          --\n",
       "│    └─Bottleneck: 2-2                   [5, 256, 56, 56]          [5, 256, 56, 56]          --\n",
       "│    │    └─Conv2d: 3-11                 [5, 256, 56, 56]          [5, 64, 56, 56]           16,384\n",
       "│    │    └─BatchNorm2d: 3-12            [5, 64, 56, 56]           [5, 64, 56, 56]           128\n",
       "│    │    └─ReLU: 3-13                   [5, 64, 56, 56]           [5, 64, 56, 56]           --\n",
       "│    │    └─Conv2d: 3-14                 [5, 64, 56, 56]           [5, 64, 56, 56]           36,864\n",
       "│    │    └─BatchNorm2d: 3-15            [5, 64, 56, 56]           [5, 64, 56, 56]           128\n",
       "│    │    └─ReLU: 3-16                   [5, 64, 56, 56]           [5, 64, 56, 56]           --\n",
       "│    │    └─Conv2d: 3-17                 [5, 64, 56, 56]           [5, 256, 56, 56]          16,384\n",
       "│    │    └─BatchNorm2d: 3-18            [5, 256, 56, 56]          [5, 256, 56, 56]          512\n",
       "│    │    └─ReLU: 3-19                   [5, 256, 56, 56]          [5, 256, 56, 56]          --\n",
       "│    └─Bottleneck: 2-3                   [5, 256, 56, 56]          [5, 256, 56, 56]          --\n",
       "│    │    └─Conv2d: 3-20                 [5, 256, 56, 56]          [5, 64, 56, 56]           16,384\n",
       "│    │    └─BatchNorm2d: 3-21            [5, 64, 56, 56]           [5, 64, 56, 56]           128\n",
       "│    │    └─ReLU: 3-22                   [5, 64, 56, 56]           [5, 64, 56, 56]           --\n",
       "│    │    └─Conv2d: 3-23                 [5, 64, 56, 56]           [5, 64, 56, 56]           36,864\n",
       "│    │    └─BatchNorm2d: 3-24            [5, 64, 56, 56]           [5, 64, 56, 56]           128\n",
       "│    │    └─ReLU: 3-25                   [5, 64, 56, 56]           [5, 64, 56, 56]           --\n",
       "│    │    └─Conv2d: 3-26                 [5, 64, 56, 56]           [5, 256, 56, 56]          16,384\n",
       "│    │    └─BatchNorm2d: 3-27            [5, 256, 56, 56]          [5, 256, 56, 56]          512\n",
       "│    │    └─ReLU: 3-28                   [5, 256, 56, 56]          [5, 256, 56, 56]          --\n",
       "├─Sequential: 1-6                        [5, 256, 56, 56]          [5, 512, 28, 28]          --\n",
       "│    └─Bottleneck: 2-4                   [5, 256, 56, 56]          [5, 512, 28, 28]          --\n",
       "│    │    └─Conv2d: 3-29                 [5, 256, 56, 56]          [5, 128, 56, 56]          32,768\n",
       "│    │    └─BatchNorm2d: 3-30            [5, 128, 56, 56]          [5, 128, 56, 56]          256\n",
       "│    │    └─ReLU: 3-31                   [5, 128, 56, 56]          [5, 128, 56, 56]          --\n",
       "│    │    └─Conv2d: 3-32                 [5, 128, 56, 56]          [5, 128, 28, 28]          147,456\n",
       "│    │    └─BatchNorm2d: 3-33            [5, 128, 28, 28]          [5, 128, 28, 28]          256\n",
       "│    │    └─ReLU: 3-34                   [5, 128, 28, 28]          [5, 128, 28, 28]          --\n",
       "│    │    └─Conv2d: 3-35                 [5, 128, 28, 28]          [5, 512, 28, 28]          65,536\n",
       "│    │    └─BatchNorm2d: 3-36            [5, 512, 28, 28]          [5, 512, 28, 28]          1,024\n",
       "│    │    └─Sequential: 3-37             [5, 256, 56, 56]          [5, 512, 28, 28]          132,096\n",
       "│    │    └─ReLU: 3-38                   [5, 512, 28, 28]          [5, 512, 28, 28]          --\n",
       "│    └─Bottleneck: 2-5                   [5, 512, 28, 28]          [5, 512, 28, 28]          --\n",
       "│    │    └─Conv2d: 3-39                 [5, 512, 28, 28]          [5, 128, 28, 28]          65,536\n",
       "│    │    └─BatchNorm2d: 3-40            [5, 128, 28, 28]          [5, 128, 28, 28]          256\n",
       "│    │    └─ReLU: 3-41                   [5, 128, 28, 28]          [5, 128, 28, 28]          --\n",
       "│    │    └─Conv2d: 3-42                 [5, 128, 28, 28]          [5, 128, 28, 28]          147,456\n",
       "│    │    └─BatchNorm2d: 3-43            [5, 128, 28, 28]          [5, 128, 28, 28]          256\n",
       "│    │    └─ReLU: 3-44                   [5, 128, 28, 28]          [5, 128, 28, 28]          --\n",
       "│    │    └─Conv2d: 3-45                 [5, 128, 28, 28]          [5, 512, 28, 28]          65,536\n",
       "│    │    └─BatchNorm2d: 3-46            [5, 512, 28, 28]          [5, 512, 28, 28]          1,024\n",
       "│    │    └─ReLU: 3-47                   [5, 512, 28, 28]          [5, 512, 28, 28]          --\n",
       "│    └─Bottleneck: 2-6                   [5, 512, 28, 28]          [5, 512, 28, 28]          --\n",
       "│    │    └─Conv2d: 3-48                 [5, 512, 28, 28]          [5, 128, 28, 28]          65,536\n",
       "│    │    └─BatchNorm2d: 3-49            [5, 128, 28, 28]          [5, 128, 28, 28]          256\n",
       "│    │    └─ReLU: 3-50                   [5, 128, 28, 28]          [5, 128, 28, 28]          --\n",
       "│    │    └─Conv2d: 3-51                 [5, 128, 28, 28]          [5, 128, 28, 28]          147,456\n",
       "│    │    └─BatchNorm2d: 3-52            [5, 128, 28, 28]          [5, 128, 28, 28]          256\n",
       "│    │    └─ReLU: 3-53                   [5, 128, 28, 28]          [5, 128, 28, 28]          --\n",
       "│    │    └─Conv2d: 3-54                 [5, 128, 28, 28]          [5, 512, 28, 28]          65,536\n",
       "│    │    └─BatchNorm2d: 3-55            [5, 512, 28, 28]          [5, 512, 28, 28]          1,024\n",
       "│    │    └─ReLU: 3-56                   [5, 512, 28, 28]          [5, 512, 28, 28]          --\n",
       "│    └─Bottleneck: 2-7                   [5, 512, 28, 28]          [5, 512, 28, 28]          --\n",
       "│    │    └─Conv2d: 3-57                 [5, 512, 28, 28]          [5, 128, 28, 28]          65,536\n",
       "│    │    └─BatchNorm2d: 3-58            [5, 128, 28, 28]          [5, 128, 28, 28]          256\n",
       "│    │    └─ReLU: 3-59                   [5, 128, 28, 28]          [5, 128, 28, 28]          --\n",
       "│    │    └─Conv2d: 3-60                 [5, 128, 28, 28]          [5, 128, 28, 28]          147,456\n",
       "│    │    └─BatchNorm2d: 3-61            [5, 128, 28, 28]          [5, 128, 28, 28]          256\n",
       "│    │    └─ReLU: 3-62                   [5, 128, 28, 28]          [5, 128, 28, 28]          --\n",
       "│    │    └─Conv2d: 3-63                 [5, 128, 28, 28]          [5, 512, 28, 28]          65,536\n",
       "│    │    └─BatchNorm2d: 3-64            [5, 512, 28, 28]          [5, 512, 28, 28]          1,024\n",
       "│    │    └─ReLU: 3-65                   [5, 512, 28, 28]          [5, 512, 28, 28]          --\n",
       "├─Sequential: 1-7                        [5, 512, 28, 28]          [5, 1024, 14, 14]         --\n",
       "│    └─Bottleneck: 2-8                   [5, 512, 28, 28]          [5, 1024, 14, 14]         --\n",
       "│    │    └─Conv2d: 3-66                 [5, 512, 28, 28]          [5, 256, 28, 28]          131,072\n",
       "│    │    └─BatchNorm2d: 3-67            [5, 256, 28, 28]          [5, 256, 28, 28]          512\n",
       "│    │    └─ReLU: 3-68                   [5, 256, 28, 28]          [5, 256, 28, 28]          --\n",
       "│    │    └─Conv2d: 3-69                 [5, 256, 28, 28]          [5, 256, 14, 14]          589,824\n",
       "│    │    └─BatchNorm2d: 3-70            [5, 256, 14, 14]          [5, 256, 14, 14]          512\n",
       "│    │    └─ReLU: 3-71                   [5, 256, 14, 14]          [5, 256, 14, 14]          --\n",
       "│    │    └─Conv2d: 3-72                 [5, 256, 14, 14]          [5, 1024, 14, 14]         262,144\n",
       "│    │    └─BatchNorm2d: 3-73            [5, 1024, 14, 14]         [5, 1024, 14, 14]         2,048\n",
       "│    │    └─Sequential: 3-74             [5, 512, 28, 28]          [5, 1024, 14, 14]         526,336\n",
       "│    │    └─ReLU: 3-75                   [5, 1024, 14, 14]         [5, 1024, 14, 14]         --\n",
       "│    └─Bottleneck: 2-9                   [5, 1024, 14, 14]         [5, 1024, 14, 14]         --\n",
       "│    │    └─Conv2d: 3-76                 [5, 1024, 14, 14]         [5, 256, 14, 14]          262,144\n",
       "│    │    └─BatchNorm2d: 3-77            [5, 256, 14, 14]          [5, 256, 14, 14]          512\n",
       "│    │    └─ReLU: 3-78                   [5, 256, 14, 14]          [5, 256, 14, 14]          --\n",
       "│    │    └─Conv2d: 3-79                 [5, 256, 14, 14]          [5, 256, 14, 14]          589,824\n",
       "│    │    └─BatchNorm2d: 3-80            [5, 256, 14, 14]          [5, 256, 14, 14]          512\n",
       "│    │    └─ReLU: 3-81                   [5, 256, 14, 14]          [5, 256, 14, 14]          --\n",
       "│    │    └─Conv2d: 3-82                 [5, 256, 14, 14]          [5, 1024, 14, 14]         262,144\n",
       "│    │    └─BatchNorm2d: 3-83            [5, 1024, 14, 14]         [5, 1024, 14, 14]         2,048\n",
       "│    │    └─ReLU: 3-84                   [5, 1024, 14, 14]         [5, 1024, 14, 14]         --\n",
       "│    └─Bottleneck: 2-10                  [5, 1024, 14, 14]         [5, 1024, 14, 14]         --\n",
       "│    │    └─Conv2d: 3-85                 [5, 1024, 14, 14]         [5, 256, 14, 14]          262,144\n",
       "│    │    └─BatchNorm2d: 3-86            [5, 256, 14, 14]          [5, 256, 14, 14]          512\n",
       "│    │    └─ReLU: 3-87                   [5, 256, 14, 14]          [5, 256, 14, 14]          --\n",
       "│    │    └─Conv2d: 3-88                 [5, 256, 14, 14]          [5, 256, 14, 14]          589,824\n",
       "│    │    └─BatchNorm2d: 3-89            [5, 256, 14, 14]          [5, 256, 14, 14]          512\n",
       "│    │    └─ReLU: 3-90                   [5, 256, 14, 14]          [5, 256, 14, 14]          --\n",
       "│    │    └─Conv2d: 3-91                 [5, 256, 14, 14]          [5, 1024, 14, 14]         262,144\n",
       "│    │    └─BatchNorm2d: 3-92            [5, 1024, 14, 14]         [5, 1024, 14, 14]         2,048\n",
       "│    │    └─ReLU: 3-93                   [5, 1024, 14, 14]         [5, 1024, 14, 14]         --\n",
       "│    └─Bottleneck: 2-11                  [5, 1024, 14, 14]         [5, 1024, 14, 14]         --\n",
       "│    │    └─Conv2d: 3-94                 [5, 1024, 14, 14]         [5, 256, 14, 14]          262,144\n",
       "│    │    └─BatchNorm2d: 3-95            [5, 256, 14, 14]          [5, 256, 14, 14]          512\n",
       "│    │    └─ReLU: 3-96                   [5, 256, 14, 14]          [5, 256, 14, 14]          --\n",
       "│    │    └─Conv2d: 3-97                 [5, 256, 14, 14]          [5, 256, 14, 14]          589,824\n",
       "│    │    └─BatchNorm2d: 3-98            [5, 256, 14, 14]          [5, 256, 14, 14]          512\n",
       "│    │    └─ReLU: 3-99                   [5, 256, 14, 14]          [5, 256, 14, 14]          --\n",
       "│    │    └─Conv2d: 3-100                [5, 256, 14, 14]          [5, 1024, 14, 14]         262,144\n",
       "│    │    └─BatchNorm2d: 3-101           [5, 1024, 14, 14]         [5, 1024, 14, 14]         2,048\n",
       "│    │    └─ReLU: 3-102                  [5, 1024, 14, 14]         [5, 1024, 14, 14]         --\n",
       "│    └─Bottleneck: 2-12                  [5, 1024, 14, 14]         [5, 1024, 14, 14]         --\n",
       "│    │    └─Conv2d: 3-103                [5, 1024, 14, 14]         [5, 256, 14, 14]          262,144\n",
       "│    │    └─BatchNorm2d: 3-104           [5, 256, 14, 14]          [5, 256, 14, 14]          512\n",
       "│    │    └─ReLU: 3-105                  [5, 256, 14, 14]          [5, 256, 14, 14]          --\n",
       "│    │    └─Conv2d: 3-106                [5, 256, 14, 14]          [5, 256, 14, 14]          589,824\n",
       "│    │    └─BatchNorm2d: 3-107           [5, 256, 14, 14]          [5, 256, 14, 14]          512\n",
       "│    │    └─ReLU: 3-108                  [5, 256, 14, 14]          [5, 256, 14, 14]          --\n",
       "│    │    └─Conv2d: 3-109                [5, 256, 14, 14]          [5, 1024, 14, 14]         262,144\n",
       "│    │    └─BatchNorm2d: 3-110           [5, 1024, 14, 14]         [5, 1024, 14, 14]         2,048\n",
       "│    │    └─ReLU: 3-111                  [5, 1024, 14, 14]         [5, 1024, 14, 14]         --\n",
       "│    └─Bottleneck: 2-13                  [5, 1024, 14, 14]         [5, 1024, 14, 14]         --\n",
       "│    │    └─Conv2d: 3-112                [5, 1024, 14, 14]         [5, 256, 14, 14]          262,144\n",
       "│    │    └─BatchNorm2d: 3-113           [5, 256, 14, 14]          [5, 256, 14, 14]          512\n",
       "│    │    └─ReLU: 3-114                  [5, 256, 14, 14]          [5, 256, 14, 14]          --\n",
       "│    │    └─Conv2d: 3-115                [5, 256, 14, 14]          [5, 256, 14, 14]          589,824\n",
       "│    │    └─BatchNorm2d: 3-116           [5, 256, 14, 14]          [5, 256, 14, 14]          512\n",
       "│    │    └─ReLU: 3-117                  [5, 256, 14, 14]          [5, 256, 14, 14]          --\n",
       "│    │    └─Conv2d: 3-118                [5, 256, 14, 14]          [5, 1024, 14, 14]         262,144\n",
       "│    │    └─BatchNorm2d: 3-119           [5, 1024, 14, 14]         [5, 1024, 14, 14]         2,048\n",
       "│    │    └─ReLU: 3-120                  [5, 1024, 14, 14]         [5, 1024, 14, 14]         --\n",
       "├─Sequential: 1-8                        [5, 1024, 14, 14]         [5, 2048, 7, 7]           --\n",
       "│    └─Bottleneck: 2-14                  [5, 1024, 14, 14]         [5, 2048, 7, 7]           --\n",
       "│    │    └─Conv2d: 3-121                [5, 1024, 14, 14]         [5, 512, 14, 14]          524,288\n",
       "│    │    └─BatchNorm2d: 3-122           [5, 512, 14, 14]          [5, 512, 14, 14]          1,024\n",
       "│    │    └─ReLU: 3-123                  [5, 512, 14, 14]          [5, 512, 14, 14]          --\n",
       "│    │    └─Conv2d: 3-124                [5, 512, 14, 14]          [5, 512, 7, 7]            2,359,296\n",
       "│    │    └─BatchNorm2d: 3-125           [5, 512, 7, 7]            [5, 512, 7, 7]            1,024\n",
       "│    │    └─ReLU: 3-126                  [5, 512, 7, 7]            [5, 512, 7, 7]            --\n",
       "│    │    └─Conv2d: 3-127                [5, 512, 7, 7]            [5, 2048, 7, 7]           1,048,576\n",
       "│    │    └─BatchNorm2d: 3-128           [5, 2048, 7, 7]           [5, 2048, 7, 7]           4,096\n",
       "│    │    └─Sequential: 3-129            [5, 1024, 14, 14]         [5, 2048, 7, 7]           2,101,248\n",
       "│    │    └─ReLU: 3-130                  [5, 2048, 7, 7]           [5, 2048, 7, 7]           --\n",
       "│    └─Bottleneck: 2-15                  [5, 2048, 7, 7]           [5, 2048, 7, 7]           --\n",
       "│    │    └─Conv2d: 3-131                [5, 2048, 7, 7]           [5, 512, 7, 7]            1,048,576\n",
       "│    │    └─BatchNorm2d: 3-132           [5, 512, 7, 7]            [5, 512, 7, 7]            1,024\n",
       "│    │    └─ReLU: 3-133                  [5, 512, 7, 7]            [5, 512, 7, 7]            --\n",
       "│    │    └─Conv2d: 3-134                [5, 512, 7, 7]            [5, 512, 7, 7]            2,359,296\n",
       "│    │    └─BatchNorm2d: 3-135           [5, 512, 7, 7]            [5, 512, 7, 7]            1,024\n",
       "│    │    └─ReLU: 3-136                  [5, 512, 7, 7]            [5, 512, 7, 7]            --\n",
       "│    │    └─Conv2d: 3-137                [5, 512, 7, 7]            [5, 2048, 7, 7]           1,048,576\n",
       "│    │    └─BatchNorm2d: 3-138           [5, 2048, 7, 7]           [5, 2048, 7, 7]           4,096\n",
       "│    │    └─ReLU: 3-139                  [5, 2048, 7, 7]           [5, 2048, 7, 7]           --\n",
       "│    └─Bottleneck: 2-16                  [5, 2048, 7, 7]           [5, 2048, 7, 7]           --\n",
       "│    │    └─Conv2d: 3-140                [5, 2048, 7, 7]           [5, 512, 7, 7]            1,048,576\n",
       "│    │    └─BatchNorm2d: 3-141           [5, 512, 7, 7]            [5, 512, 7, 7]            1,024\n",
       "│    │    └─ReLU: 3-142                  [5, 512, 7, 7]            [5, 512, 7, 7]            --\n",
       "│    │    └─Conv2d: 3-143                [5, 512, 7, 7]            [5, 512, 7, 7]            2,359,296\n",
       "│    │    └─BatchNorm2d: 3-144           [5, 512, 7, 7]            [5, 512, 7, 7]            1,024\n",
       "│    │    └─ReLU: 3-145                  [5, 512, 7, 7]            [5, 512, 7, 7]            --\n",
       "│    │    └─Conv2d: 3-146                [5, 512, 7, 7]            [5, 2048, 7, 7]           1,048,576\n",
       "│    │    └─BatchNorm2d: 3-147           [5, 2048, 7, 7]           [5, 2048, 7, 7]           4,096\n",
       "│    │    └─ReLU: 3-148                  [5, 2048, 7, 7]           [5, 2048, 7, 7]           --\n",
       "├─AdaptiveAvgPool2d: 1-9                 [5, 2048, 7, 7]           [5, 2048, 1, 1]           --\n",
       "├─Linear: 1-10                           [5, 2048]                 [5, 1000]                 2,049,000\n",
       "===================================================================================================================\n",
       "Total params: 25,557,032\n",
       "Trainable params: 25,557,032\n",
       "Non-trainable params: 0\n",
       "Total mult-adds (G): 20.45\n",
       "===================================================================================================================\n",
       "Input size (MB): 3.01\n",
       "Forward/backward pass size (MB): 889.16\n",
       "Params size (MB): 102.23\n",
       "Estimated Total Size (MB): 994.40\n",
       "==================================================================================================================="
      ]
     },
     "execution_count": 63,
     "metadata": {},
     "output_type": "execute_result"
    }
   ],
   "source": [
    "resnet_model = resnet50(weights=ResNet50_Weights.DEFAULT)\n",
    "summary(resnet_model,\n",
    "        input_data=imgs,\n",
    "        col_names=['input_size',\n",
    "                   'output_size',\n",
    "                   'num_params'])\n"
   ]
  },
  {
   "cell_type": "markdown",
   "id": "59077750",
   "metadata": {},
   "source": [
    "We set the mode to `eval()` to ensure that the model is ready to predict on new data."
   ]
  },
  {
   "cell_type": "code",
   "execution_count": 64,
   "id": "9e53e23b",
   "metadata": {
    "lines_to_next_cell": 0,
    "scrolled": true
   },
   "outputs": [
    {
     "data": {
      "text/plain": [
       "ResNet(\n",
       "  (conv1): Conv2d(3, 64, kernel_size=(7, 7), stride=(2, 2), padding=(3, 3), bias=False)\n",
       "  (bn1): BatchNorm2d(64, eps=1e-05, momentum=0.1, affine=True, track_running_stats=True)\n",
       "  (relu): ReLU(inplace=True)\n",
       "  (maxpool): MaxPool2d(kernel_size=3, stride=2, padding=1, dilation=1, ceil_mode=False)\n",
       "  (layer1): Sequential(\n",
       "    (0): Bottleneck(\n",
       "      (conv1): Conv2d(64, 64, kernel_size=(1, 1), stride=(1, 1), bias=False)\n",
       "      (bn1): BatchNorm2d(64, eps=1e-05, momentum=0.1, affine=True, track_running_stats=True)\n",
       "      (conv2): Conv2d(64, 64, kernel_size=(3, 3), stride=(1, 1), padding=(1, 1), bias=False)\n",
       "      (bn2): BatchNorm2d(64, eps=1e-05, momentum=0.1, affine=True, track_running_stats=True)\n",
       "      (conv3): Conv2d(64, 256, kernel_size=(1, 1), stride=(1, 1), bias=False)\n",
       "      (bn3): BatchNorm2d(256, eps=1e-05, momentum=0.1, affine=True, track_running_stats=True)\n",
       "      (relu): ReLU(inplace=True)\n",
       "      (downsample): Sequential(\n",
       "        (0): Conv2d(64, 256, kernel_size=(1, 1), stride=(1, 1), bias=False)\n",
       "        (1): BatchNorm2d(256, eps=1e-05, momentum=0.1, affine=True, track_running_stats=True)\n",
       "      )\n",
       "    )\n",
       "    (1): Bottleneck(\n",
       "      (conv1): Conv2d(256, 64, kernel_size=(1, 1), stride=(1, 1), bias=False)\n",
       "      (bn1): BatchNorm2d(64, eps=1e-05, momentum=0.1, affine=True, track_running_stats=True)\n",
       "      (conv2): Conv2d(64, 64, kernel_size=(3, 3), stride=(1, 1), padding=(1, 1), bias=False)\n",
       "      (bn2): BatchNorm2d(64, eps=1e-05, momentum=0.1, affine=True, track_running_stats=True)\n",
       "      (conv3): Conv2d(64, 256, kernel_size=(1, 1), stride=(1, 1), bias=False)\n",
       "      (bn3): BatchNorm2d(256, eps=1e-05, momentum=0.1, affine=True, track_running_stats=True)\n",
       "      (relu): ReLU(inplace=True)\n",
       "    )\n",
       "    (2): Bottleneck(\n",
       "      (conv1): Conv2d(256, 64, kernel_size=(1, 1), stride=(1, 1), bias=False)\n",
       "      (bn1): BatchNorm2d(64, eps=1e-05, momentum=0.1, affine=True, track_running_stats=True)\n",
       "      (conv2): Conv2d(64, 64, kernel_size=(3, 3), stride=(1, 1), padding=(1, 1), bias=False)\n",
       "      (bn2): BatchNorm2d(64, eps=1e-05, momentum=0.1, affine=True, track_running_stats=True)\n",
       "      (conv3): Conv2d(64, 256, kernel_size=(1, 1), stride=(1, 1), bias=False)\n",
       "      (bn3): BatchNorm2d(256, eps=1e-05, momentum=0.1, affine=True, track_running_stats=True)\n",
       "      (relu): ReLU(inplace=True)\n",
       "    )\n",
       "  )\n",
       "  (layer2): Sequential(\n",
       "    (0): Bottleneck(\n",
       "      (conv1): Conv2d(256, 128, kernel_size=(1, 1), stride=(1, 1), bias=False)\n",
       "      (bn1): BatchNorm2d(128, eps=1e-05, momentum=0.1, affine=True, track_running_stats=True)\n",
       "      (conv2): Conv2d(128, 128, kernel_size=(3, 3), stride=(2, 2), padding=(1, 1), bias=False)\n",
       "      (bn2): BatchNorm2d(128, eps=1e-05, momentum=0.1, affine=True, track_running_stats=True)\n",
       "      (conv3): Conv2d(128, 512, kernel_size=(1, 1), stride=(1, 1), bias=False)\n",
       "      (bn3): BatchNorm2d(512, eps=1e-05, momentum=0.1, affine=True, track_running_stats=True)\n",
       "      (relu): ReLU(inplace=True)\n",
       "      (downsample): Sequential(\n",
       "        (0): Conv2d(256, 512, kernel_size=(1, 1), stride=(2, 2), bias=False)\n",
       "        (1): BatchNorm2d(512, eps=1e-05, momentum=0.1, affine=True, track_running_stats=True)\n",
       "      )\n",
       "    )\n",
       "    (1): Bottleneck(\n",
       "      (conv1): Conv2d(512, 128, kernel_size=(1, 1), stride=(1, 1), bias=False)\n",
       "      (bn1): BatchNorm2d(128, eps=1e-05, momentum=0.1, affine=True, track_running_stats=True)\n",
       "      (conv2): Conv2d(128, 128, kernel_size=(3, 3), stride=(1, 1), padding=(1, 1), bias=False)\n",
       "      (bn2): BatchNorm2d(128, eps=1e-05, momentum=0.1, affine=True, track_running_stats=True)\n",
       "      (conv3): Conv2d(128, 512, kernel_size=(1, 1), stride=(1, 1), bias=False)\n",
       "      (bn3): BatchNorm2d(512, eps=1e-05, momentum=0.1, affine=True, track_running_stats=True)\n",
       "      (relu): ReLU(inplace=True)\n",
       "    )\n",
       "    (2): Bottleneck(\n",
       "      (conv1): Conv2d(512, 128, kernel_size=(1, 1), stride=(1, 1), bias=False)\n",
       "      (bn1): BatchNorm2d(128, eps=1e-05, momentum=0.1, affine=True, track_running_stats=True)\n",
       "      (conv2): Conv2d(128, 128, kernel_size=(3, 3), stride=(1, 1), padding=(1, 1), bias=False)\n",
       "      (bn2): BatchNorm2d(128, eps=1e-05, momentum=0.1, affine=True, track_running_stats=True)\n",
       "      (conv3): Conv2d(128, 512, kernel_size=(1, 1), stride=(1, 1), bias=False)\n",
       "      (bn3): BatchNorm2d(512, eps=1e-05, momentum=0.1, affine=True, track_running_stats=True)\n",
       "      (relu): ReLU(inplace=True)\n",
       "    )\n",
       "    (3): Bottleneck(\n",
       "      (conv1): Conv2d(512, 128, kernel_size=(1, 1), stride=(1, 1), bias=False)\n",
       "      (bn1): BatchNorm2d(128, eps=1e-05, momentum=0.1, affine=True, track_running_stats=True)\n",
       "      (conv2): Conv2d(128, 128, kernel_size=(3, 3), stride=(1, 1), padding=(1, 1), bias=False)\n",
       "      (bn2): BatchNorm2d(128, eps=1e-05, momentum=0.1, affine=True, track_running_stats=True)\n",
       "      (conv3): Conv2d(128, 512, kernel_size=(1, 1), stride=(1, 1), bias=False)\n",
       "      (bn3): BatchNorm2d(512, eps=1e-05, momentum=0.1, affine=True, track_running_stats=True)\n",
       "      (relu): ReLU(inplace=True)\n",
       "    )\n",
       "  )\n",
       "  (layer3): Sequential(\n",
       "    (0): Bottleneck(\n",
       "      (conv1): Conv2d(512, 256, kernel_size=(1, 1), stride=(1, 1), bias=False)\n",
       "      (bn1): BatchNorm2d(256, eps=1e-05, momentum=0.1, affine=True, track_running_stats=True)\n",
       "      (conv2): Conv2d(256, 256, kernel_size=(3, 3), stride=(2, 2), padding=(1, 1), bias=False)\n",
       "      (bn2): BatchNorm2d(256, eps=1e-05, momentum=0.1, affine=True, track_running_stats=True)\n",
       "      (conv3): Conv2d(256, 1024, kernel_size=(1, 1), stride=(1, 1), bias=False)\n",
       "      (bn3): BatchNorm2d(1024, eps=1e-05, momentum=0.1, affine=True, track_running_stats=True)\n",
       "      (relu): ReLU(inplace=True)\n",
       "      (downsample): Sequential(\n",
       "        (0): Conv2d(512, 1024, kernel_size=(1, 1), stride=(2, 2), bias=False)\n",
       "        (1): BatchNorm2d(1024, eps=1e-05, momentum=0.1, affine=True, track_running_stats=True)\n",
       "      )\n",
       "    )\n",
       "    (1): Bottleneck(\n",
       "      (conv1): Conv2d(1024, 256, kernel_size=(1, 1), stride=(1, 1), bias=False)\n",
       "      (bn1): BatchNorm2d(256, eps=1e-05, momentum=0.1, affine=True, track_running_stats=True)\n",
       "      (conv2): Conv2d(256, 256, kernel_size=(3, 3), stride=(1, 1), padding=(1, 1), bias=False)\n",
       "      (bn2): BatchNorm2d(256, eps=1e-05, momentum=0.1, affine=True, track_running_stats=True)\n",
       "      (conv3): Conv2d(256, 1024, kernel_size=(1, 1), stride=(1, 1), bias=False)\n",
       "      (bn3): BatchNorm2d(1024, eps=1e-05, momentum=0.1, affine=True, track_running_stats=True)\n",
       "      (relu): ReLU(inplace=True)\n",
       "    )\n",
       "    (2): Bottleneck(\n",
       "      (conv1): Conv2d(1024, 256, kernel_size=(1, 1), stride=(1, 1), bias=False)\n",
       "      (bn1): BatchNorm2d(256, eps=1e-05, momentum=0.1, affine=True, track_running_stats=True)\n",
       "      (conv2): Conv2d(256, 256, kernel_size=(3, 3), stride=(1, 1), padding=(1, 1), bias=False)\n",
       "      (bn2): BatchNorm2d(256, eps=1e-05, momentum=0.1, affine=True, track_running_stats=True)\n",
       "      (conv3): Conv2d(256, 1024, kernel_size=(1, 1), stride=(1, 1), bias=False)\n",
       "      (bn3): BatchNorm2d(1024, eps=1e-05, momentum=0.1, affine=True, track_running_stats=True)\n",
       "      (relu): ReLU(inplace=True)\n",
       "    )\n",
       "    (3): Bottleneck(\n",
       "      (conv1): Conv2d(1024, 256, kernel_size=(1, 1), stride=(1, 1), bias=False)\n",
       "      (bn1): BatchNorm2d(256, eps=1e-05, momentum=0.1, affine=True, track_running_stats=True)\n",
       "      (conv2): Conv2d(256, 256, kernel_size=(3, 3), stride=(1, 1), padding=(1, 1), bias=False)\n",
       "      (bn2): BatchNorm2d(256, eps=1e-05, momentum=0.1, affine=True, track_running_stats=True)\n",
       "      (conv3): Conv2d(256, 1024, kernel_size=(1, 1), stride=(1, 1), bias=False)\n",
       "      (bn3): BatchNorm2d(1024, eps=1e-05, momentum=0.1, affine=True, track_running_stats=True)\n",
       "      (relu): ReLU(inplace=True)\n",
       "    )\n",
       "    (4): Bottleneck(\n",
       "      (conv1): Conv2d(1024, 256, kernel_size=(1, 1), stride=(1, 1), bias=False)\n",
       "      (bn1): BatchNorm2d(256, eps=1e-05, momentum=0.1, affine=True, track_running_stats=True)\n",
       "      (conv2): Conv2d(256, 256, kernel_size=(3, 3), stride=(1, 1), padding=(1, 1), bias=False)\n",
       "      (bn2): BatchNorm2d(256, eps=1e-05, momentum=0.1, affine=True, track_running_stats=True)\n",
       "      (conv3): Conv2d(256, 1024, kernel_size=(1, 1), stride=(1, 1), bias=False)\n",
       "      (bn3): BatchNorm2d(1024, eps=1e-05, momentum=0.1, affine=True, track_running_stats=True)\n",
       "      (relu): ReLU(inplace=True)\n",
       "    )\n",
       "    (5): Bottleneck(\n",
       "      (conv1): Conv2d(1024, 256, kernel_size=(1, 1), stride=(1, 1), bias=False)\n",
       "      (bn1): BatchNorm2d(256, eps=1e-05, momentum=0.1, affine=True, track_running_stats=True)\n",
       "      (conv2): Conv2d(256, 256, kernel_size=(3, 3), stride=(1, 1), padding=(1, 1), bias=False)\n",
       "      (bn2): BatchNorm2d(256, eps=1e-05, momentum=0.1, affine=True, track_running_stats=True)\n",
       "      (conv3): Conv2d(256, 1024, kernel_size=(1, 1), stride=(1, 1), bias=False)\n",
       "      (bn3): BatchNorm2d(1024, eps=1e-05, momentum=0.1, affine=True, track_running_stats=True)\n",
       "      (relu): ReLU(inplace=True)\n",
       "    )\n",
       "  )\n",
       "  (layer4): Sequential(\n",
       "    (0): Bottleneck(\n",
       "      (conv1): Conv2d(1024, 512, kernel_size=(1, 1), stride=(1, 1), bias=False)\n",
       "      (bn1): BatchNorm2d(512, eps=1e-05, momentum=0.1, affine=True, track_running_stats=True)\n",
       "      (conv2): Conv2d(512, 512, kernel_size=(3, 3), stride=(2, 2), padding=(1, 1), bias=False)\n",
       "      (bn2): BatchNorm2d(512, eps=1e-05, momentum=0.1, affine=True, track_running_stats=True)\n",
       "      (conv3): Conv2d(512, 2048, kernel_size=(1, 1), stride=(1, 1), bias=False)\n",
       "      (bn3): BatchNorm2d(2048, eps=1e-05, momentum=0.1, affine=True, track_running_stats=True)\n",
       "      (relu): ReLU(inplace=True)\n",
       "      (downsample): Sequential(\n",
       "        (0): Conv2d(1024, 2048, kernel_size=(1, 1), stride=(2, 2), bias=False)\n",
       "        (1): BatchNorm2d(2048, eps=1e-05, momentum=0.1, affine=True, track_running_stats=True)\n",
       "      )\n",
       "    )\n",
       "    (1): Bottleneck(\n",
       "      (conv1): Conv2d(2048, 512, kernel_size=(1, 1), stride=(1, 1), bias=False)\n",
       "      (bn1): BatchNorm2d(512, eps=1e-05, momentum=0.1, affine=True, track_running_stats=True)\n",
       "      (conv2): Conv2d(512, 512, kernel_size=(3, 3), stride=(1, 1), padding=(1, 1), bias=False)\n",
       "      (bn2): BatchNorm2d(512, eps=1e-05, momentum=0.1, affine=True, track_running_stats=True)\n",
       "      (conv3): Conv2d(512, 2048, kernel_size=(1, 1), stride=(1, 1), bias=False)\n",
       "      (bn3): BatchNorm2d(2048, eps=1e-05, momentum=0.1, affine=True, track_running_stats=True)\n",
       "      (relu): ReLU(inplace=True)\n",
       "    )\n",
       "    (2): Bottleneck(\n",
       "      (conv1): Conv2d(2048, 512, kernel_size=(1, 1), stride=(1, 1), bias=False)\n",
       "      (bn1): BatchNorm2d(512, eps=1e-05, momentum=0.1, affine=True, track_running_stats=True)\n",
       "      (conv2): Conv2d(512, 512, kernel_size=(3, 3), stride=(1, 1), padding=(1, 1), bias=False)\n",
       "      (bn2): BatchNorm2d(512, eps=1e-05, momentum=0.1, affine=True, track_running_stats=True)\n",
       "      (conv3): Conv2d(512, 2048, kernel_size=(1, 1), stride=(1, 1), bias=False)\n",
       "      (bn3): BatchNorm2d(2048, eps=1e-05, momentum=0.1, affine=True, track_running_stats=True)\n",
       "      (relu): ReLU(inplace=True)\n",
       "    )\n",
       "  )\n",
       "  (avgpool): AdaptiveAvgPool2d(output_size=(1, 1))\n",
       "  (fc): Linear(in_features=2048, out_features=1000, bias=True)\n",
       ")"
      ]
     },
     "execution_count": 64,
     "metadata": {},
     "output_type": "execute_result"
    }
   ],
   "source": [
    "resnet_model.eval()"
   ]
  },
  {
   "cell_type": "markdown",
   "id": "24d63ea9",
   "metadata": {},
   "source": [
    "Inspecting the output above, we see that when setting up the\n",
    "`resnet_model`, the authors defined a `Bottleneck`, much like our\n",
    "`BuildingBlock` module.\n",
    "\n",
    "We now feed our six images through the fitted network."
   ]
  },
  {
   "cell_type": "code",
   "execution_count": 65,
   "id": "0890e08a",
   "metadata": {},
   "outputs": [],
   "source": [
    "img_preds = resnet_model(imgs)\n"
   ]
  },
  {
   "cell_type": "markdown",
   "id": "a7d8f653",
   "metadata": {},
   "source": [
    "Let’s look at the predicted probabilities for each of the top 3 choices. First we compute\n",
    "the probabilities by applying the softmax to the logits in `img_preds`. Note that\n",
    "we have had to call the `detach()` method on the tensor `img_preds` in order to convert\n",
    "it to our a more familiar `ndarray`."
   ]
  },
  {
   "cell_type": "code",
   "execution_count": 66,
   "id": "60ec5152",
   "metadata": {},
   "outputs": [],
   "source": [
    "img_probs = np.exp(np.asarray(img_preds.detach()))\n",
    "img_probs /= img_probs.sum(1)[:,None]\n"
   ]
  },
  {
   "cell_type": "markdown",
   "id": "0ee6c41c",
   "metadata": {},
   "source": [
    "In order to see the class labels, we must download the index file associated with `imagenet`. {This is avalable from the book website and  [s3.amazonaws.com/deep-learning-models/image-models/imagenet_class_index.json](https://s3.amazonaws.com/deep-learning-models/image-models/imagenet_class_index.json).}"
   ]
  },
  {
   "cell_type": "code",
   "execution_count": 67,
   "id": "9408bbd3",
   "metadata": {},
   "outputs": [],
   "source": [
    "labs = json.load(open('imagenet_class_index.json'))\n",
    "class_labels = pd.DataFrame([(int(k), v[1]) for k, v in \n",
    "                           labs.items()],\n",
    "                           columns=['idx', 'label'])\n",
    "class_labels = class_labels.set_index('idx')\n",
    "class_labels = class_labels.sort_index()\n"
   ]
  },
  {
   "cell_type": "markdown",
   "id": "4d134d92",
   "metadata": {},
   "source": [
    "We’ll now construct a data frame for each image file\n",
    "with the labels with the three highest probabilities as\n",
    "estimated by the model above."
   ]
  },
  {
   "cell_type": "code",
   "execution_count": 68,
   "id": "5369faef",
   "metadata": {
    "lines_to_next_cell": 2
   },
   "outputs": [
    {
     "name": "stdout",
     "output_type": "stream",
     "text": [
      "Image: book_images/Cape_Weaver.jpg\n",
      "      label      prob\n",
      "0   jacamar  0.298104\n",
      "1     macaw  0.068012\n",
      "2  lorikeet  0.051065\n",
      "Image: book_images/Hawk_Fountain.jpg\n",
      "            label      prob\n",
      "0            kite  0.187827\n",
      "1           robin  0.084549\n",
      "2  great_grey_owl  0.059789\n",
      "Image: book_images/Hawk_cropped.jpg\n",
      "            label      prob\n",
      "0            kite  0.454468\n",
      "1  great_grey_owl  0.015786\n",
      "2             jay  0.011911\n",
      "Image: book_images/Lhasa_Apso.jpg\n",
      "             label      prob\n",
      "0            Lhasa  0.260202\n",
      "1         Shih-Tzu  0.098005\n",
      "2  Tibetan_terrier  0.032102\n",
      "Image: book_images/Sleeping_Cat.jpg\n",
      "         label      prob\n",
      "0  Persian_cat  0.163613\n",
      "1        tabby  0.074585\n",
      "2    tiger_cat  0.042531\n"
     ]
    }
   ],
   "source": [
    "for i, imgfile in enumerate(imgfiles):\n",
    "    img_df = class_labels.copy()\n",
    "    img_df['prob'] = img_probs[i]\n",
    "    img_df = img_df.sort_values(by='prob', ascending=False)[:3]\n",
    "    print(f'Image: {imgfile}')\n",
    "    print(img_df.reset_index().drop(columns=['idx']))\n"
   ]
  },
  {
   "cell_type": "markdown",
   "id": "e8da904e",
   "metadata": {},
   "source": [
    "We see that the model\n",
    "is quite confident about `Flamingo.jpg`, but a little less so for the\n",
    "other images.\n",
    "\n",
    "We end this section with our usual cleanup."
   ]
  },
  {
   "cell_type": "code",
   "execution_count": 69,
   "id": "f585e5d2",
   "metadata": {
    "lines_to_next_cell": 2
   },
   "outputs": [],
   "source": [
    "del(cifar_test,\n",
    "    cifar_train,\n",
    "    cifar_dm,\n",
    "    cifar_module,\n",
    "    cifar_logger,\n",
    "    cifar_optimizer,\n",
    "    cifar_trainer)"
   ]
  }
 ],
 "metadata": {
  "jupytext": {
   "cell_metadata_filter": "-all",
   "main_language": "python",
   "notebook_metadata_filter": "-all"
  },
  "kernelspec": {
   "display_name": "islp",
   "language": "python",
   "name": "islp"
  },
  "language_info": {
   "codemirror_mode": {
    "name": "ipython",
    "version": 3
   },
   "file_extension": ".py",
   "mimetype": "text/x-python",
   "name": "python",
   "nbconvert_exporter": "python",
   "pygments_lexer": "ipython3",
   "version": "3.10.13"
  }
 },
 "nbformat": 4,
 "nbformat_minor": 5
}
